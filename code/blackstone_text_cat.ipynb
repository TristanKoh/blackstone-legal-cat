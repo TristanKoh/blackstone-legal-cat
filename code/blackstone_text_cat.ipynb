{
 "metadata": {
  "language_info": {
   "codemirror_mode": {
    "name": "ipython",
    "version": 3
   },
   "file_extension": ".py",
   "mimetype": "text/x-python",
   "name": "python",
   "nbconvert_exporter": "python",
   "pygments_lexer": "ipython3",
   "version": "3.7.5-final"
  },
  "orig_nbformat": 2,
  "kernelspec": {
   "name": "blackstone",
   "display_name": "blackstone",
   "language": "python"
  }
 },
 "nbformat": 4,
 "nbformat_minor": 2,
 "cells": [
  {
   "source": [
    "# Legal Text Classification with Blackstone\n",
    "\n",
    "### Author: Tristan Koh, NUS Law Year 2\n",
    "### GitHub: https://github.com/TristanKoh\n",
    "\n",
    "This Jupyter notebook demonstrates the uses of Blackstone on Singaporean case law. By doing so, I hope to encourage others to get their hands dirty with basic programming and data science, especially law students that are interested in legal technology. Even for students whose interest lies in the law of technology rather than technology of law, I personally believe that one cannot simply discuss \"technology\" in the abstract when formulating legal rules that govern such technology.\n",
    "\n",
    "At the same time, I empathise with those who may be apprehensive of programming / coding, as I was one and a half years ago. Hence, through this notebook, I aim to explain each step in the code as simply as possible, to demonstrate that one does not need to be particularly talented to self-learn programming.\n",
    "\n"
   ],
   "cell_type": "markdown",
   "metadata": {}
  },
  {
   "source": [
    "## About Blackstone\n",
    "\n",
    "Blackstone is a Python package that uses Natural Language Processing (NLP) techniques to detect linguistic features in case law and classify the text into 5 categories.\n",
    "\n",
    "The five categories are:\n",
    "\n",
    "AXIOM - The text appears to postulate a well-established principle\n",
    "\n",
    "CONCLUSION - The text appears to make a finding, holding, determination or conclusion\n",
    "\n",
    "ISSUE - The text appears to discuss an issue or question\n",
    "\n",
    "LEGAL_TEST - The test appears to discuss a legal test\n",
    "\n",
    "UNCAT - The text does not fall into one of the four categories above"
   ],
   "cell_type": "markdown",
   "metadata": {}
  },
  {
   "source": [
    "## How Blackstone fits into the broader data science context\n",
    "\n",
    "As computers cannot understand text as humans do, NLP packages like Blackstone provide a set of utilities that allows us to create a mathematical model of the text, such that computers are able to process natural language. We call these models \"text representations\". The simplest of text representations (not used in Blackstone) is the Bag-of-Words representation. It represents the text as a count of words in the document.\n",
    "\n",
    "As you may imagine, such a representation loses significant semantic meaning, as it ignores word order and relative frequency of words in the text. This means that commonly used but less meaningful words like \"can\" and \"one\" have higher weightage in the model than more meaningful words like \"technology\" and \"programming\". \n",
    "\n",
    "Therefore, there are other, more complicated text representations that retain more semantic meaning in the text, such as as a Tf-IDF representation (which is essentially a weighted count of words) and word embeddings.\n",
    "\n",
    "Blackstone uses the latter model. For brevity, this article (https://machinelearningmastery.com/what-are-word-embeddings/) better explains how word embeddings work much better than I can, so I shall not go further into the details here.\n",
    "\n",
    "To demonstrate the usage and performance of Blackstone, I used the seminal Singaporean tort case of Spandeck v DSTA Agency (2007) 4 SLR(R) 100.\n",
    "\n",
    "The rest of this jupyter notebook documents the text cleaning process and the prediction of the above legal categories."
   ],
   "cell_type": "markdown",
   "metadata": {}
  },
  {
   "source": [
    "## 1. Importing relevant packages and the data file\n",
    "\n",
    "Before we begin, certain packages need to be imported such that it would allow neater and more efficient management of the data. Packages are basically code written in Python that provide specific functionality that are not present in Python itself.\n",
    "\n",
    "The key packages that are used for this notebook are:\n",
    "\n",
    "1. Pandas - Enables the structuring of data in a tabular format, with rows and columns (similar to an Excel spreadsheet).\n",
    "\n",
    "2. Blackstone - As mentioned, a NLP package.\n",
    "\n",
    "3. Path - Auxilliary package that creates the relative file path to the file that contains case that we are going to test Blackstone on."
   ],
   "cell_type": "markdown",
   "metadata": {}
  },
  {
   "cell_type": "code",
   "execution_count": 10,
   "metadata": {},
   "outputs": [],
   "source": [
    "# This code checks the location of the working directory, affects the definition of dataFilePath as defined below for the import of the spandeck file\n",
    "# I have left the code commented since it only needs to be used for checking the file path before starting the rest of the project\n",
    "# import os\n",
    "# os.getcwd()"
   ]
  },
  {
   "cell_type": "code",
   "execution_count": 11,
   "metadata": {},
   "outputs": [],
   "source": [
    "from pathlib import Path\n",
    "import pandas as pd\n",
    "\n",
    "# DatafilePath is a string that contains the relative file path to the data file\n",
    "dataFilePath = Path(\"..\", \"data\", \"spandeck.txt\")\n",
    "\n",
    "# Import the spandeck case as text\n",
    "spandeck = open(dataFilePath, \"r\", encoding= \"utf8\")\n",
    "\n",
    "# .readlines() returns a stream (ie. the text is not saved in memory), hence we save it as a string called \"text\" which is saved in memory\n",
    "text = spandeck.readlines()"
   ]
  },
  {
   "cell_type": "code",
   "execution_count": 12,
   "metadata": {},
   "outputs": [],
   "source": [
    "# This code loads the blackstone NLP model, and saves it into the object called NLP\n",
    "import blackstone\n",
    "import en_blackstone_proto\n",
    "nlp = en_blackstone_proto.load()"
   ]
  },
  {
   "source": [
    "## 2. Text pre-processing\n",
    "\n",
    "As the text as extracted directly from the pdf file is not \"clean\" (ie. contains formatting and other characters that do not carry any semantic meaning), we will first need to pre-process the text to remove these unessential characters.\n",
    "\n",
    "There are various packages that come with pre-written functions that can be used for general situations, but here the text only contains line and tab breaks, and hence I have decided to define my own function that removes such text formatting."
   ],
   "cell_type": "markdown",
   "metadata": {}
  },
  {
   "source": [
    "### What is a function?\n",
    "\n",
    "A function in programming is similar to mathematical functions; there is an input and an output, and a bunch of pre-defined steps are applied onto the input.\n",
    "\n",
    "Apart from pre-defined functions (such as the \"print\" function), we can also define our own functions. We do so for our convenience, because we can reuse the same lines of code defined within the function later on just by calling the function name."
   ],
   "cell_type": "markdown",
   "metadata": {}
  },
  {
   "source": [
    "### Function for text pre-processing\n",
    "\n",
    "This function replaces tabs and new lines and appends the sentences together to form a single string."
   ],
   "cell_type": "markdown",
   "metadata": {}
  },
  {
   "cell_type": "code",
   "execution_count": 13,
   "metadata": {},
   "outputs": [],
   "source": [
    "# Text preprocessing\n",
    "def text_preprocessing(text):\n",
    "    \"\"\" Accepts a list of unprocessed strings, returns a list of strings without string and tab breaks and empty strings \"\"\"\n",
    "    \n",
    "    # This creates an empty list\n",
    "    processed_text = []\n",
    "\n",
    "    # This is a for loop; it iterates through the strings in the text, and performs some operations on each string. Hence the name for loop: \"For\" each string, apply X operations on the string.\n",
    "\n",
    "    # In this case, for each string, we replace new lines (\"\\n\") with an empty string, and replace tabs (\"\\t\") with a space.\n",
    "    for string in text:\n",
    "        string = string.replace(\"\\n\", \"\")\n",
    "        string = string.replace(\"\\t\", \" \")\n",
    "        processed_text.append(string)\n",
    "    \n",
    "    # This is a list comprehension; a more concise way of expressing a for loop.\n",
    "    # We iterate through each string in the processed text, and we only retain strings which are not empty strings (since empty strings are meaningless in this context)\n",
    "\n",
    "    processed_text = [string for string in processed_text if string != \"\"]\n",
    "\n",
    "    return processed_text\n",
    "\n",
    "# Run the function on the string\n",
    "text = text_preprocessing(text)"
   ]
  },
  {
   "source": [
    "### Function to split the text into individual strings\n",
    "\n",
    "Since blackstone predicts at a sentence level (ie. we cannot use the entire case as one string as an input to blackstone), this function splits the text into individual strings using blackstone's sentence boundary detector.\n",
    "\n",
    "The sentence boundary detector is a function within blackstone that detects individual sentences."
   ],
   "cell_type": "markdown",
   "metadata": {}
  },
  {
   "cell_type": "code",
   "execution_count": 14,
   "metadata": {},
   "outputs": [],
   "source": [
    "def legal_cats(sentences):\n",
    "    \"\"\"\n",
    "    Function to identify the highest scoring category prediction generated by the text categoriser. \n",
    "\n",
    "    Arguments: \n",
    "    a list of strings\n",
    "    \n",
    "    converts to spacy generator object, splits into sentences using spacy's sentence detector\n",
    "\n",
    "    returns a tuple of: \n",
    "    a list of the split sentences,\n",
    "    a list of the max cat and max score for each doc in tuples\n",
    "    \"\"\"\n",
    "    doc_sentences = []\n",
    "\n",
    "    # This passes the input string through the nlp model, and converts it to doc object\n",
    "    # This doc object contains both the original text, and tags the sentences with certain attributes, such as the sentence boundary detector.\n",
    "    # A doc corresponds to a string.\n",
    "\n",
    "    docs = nlp.pipe(sentences, disable = [\"tagger\", \"ner\", \"textcat\"])\n",
    "\n",
    "    # We loop through each document in the documents, and loop again through each sentence in the document, and append the sentence to doc_sentences, an empty list\n",
    "    for doc in docs:\n",
    "        for sentence in doc.sents:\n",
    "            doc_sentences.append(sentence.text)\n",
    "    \n",
    "    # We can now categorise each sentence into one of the five abovementioned categories.\n",
    "\n",
    "    # We convert the newly detected sentences into a doc object again, as it contains the categoriser attribute that we can use to predict\n",
    "    \n",
    "    docs = nlp.pipe(doc_sentences, disable = [\"tagger\", \"parser\", \"ner\"])\n",
    "\n",
    "    # We create a list to store the corresponding category and the score (ie the likelihood of the category that blackstone predicts the sentence to be)\n",
    "    # This index of the list corresponds to doc_sentences (ie. the first item in cats_list contains the predicted category and score for the first sentence in doc_sentences, the second item in cats_list contains the predicted category and score for the second sentence, so on and so forth)\n",
    "\n",
    "    cats_list = []\n",
    "\n",
    "    # We loop through the doc (sentence) in the documents, and return the highest probability category and its score for each sentence\n",
    "\n",
    "    # We have to select the highest scoring category because blackstone provides the probability of all five categories which the sentence can fall under.\n",
    "\n",
    "    # We are only concerned with blackstone's best prediction, and hence we only save the highest scoring category.\n",
    "    for doc in docs:\n",
    "        cats = doc.cats\n",
    "        max_score = max(cats.values()) \n",
    "        max_cats = [k for k, v in cats.items() if v == max_score]\n",
    "        max_cat = max_cats[0]\n",
    "        cats_list.append((max_cat, max_score))\n",
    "\n",
    "    return doc_sentences, cats_list"
   ]
  },
  {
   "source": [
    "## 3. Predicting on the processed text\n",
    "\n",
    "With the above function defined, we can now finally use blackstone to predict the categories of the text. This just involves calling the function with the cleaned text as the argument.\n",
    "\n",
    "The variable \"cats\" is a tuple (ie. two values inside parentheses). Each pair corresponds to each sentence in the processed text, as the function \"legal_cats\" assigns the top scoring category to each sentence. The first element of the pair contains a list of all the sentences in the text. \n",
    "\n",
    "The second element of the pair contains another pair: This nested pair contains the name of the category that the sentence is most likely to be classified, as well as the probability that the sentence falls under this category."
   ],
   "cell_type": "markdown",
   "metadata": {}
  },
  {
   "cell_type": "code",
   "execution_count": 15,
   "metadata": {
    "tags": []
   },
   "outputs": [
    {
     "output_type": "stream",
     "name": "stdout",
     "text": [
      "['Tort – Negligence – Duty of care – Applicable test to determine existence of duty of care – Relationship between two-stage test and incremental approach – Application of two-stage test comprising first proximity and second policy considerations with threshold consideration of factual foreseeability – Incremental approach as methodological aid in applying specific criterion of two-stage test', 'Tort – Negligence – Duty of care – Applicable test to determine existence of duty of care – Whether type of damage claimed should result in different test – Application of single (two-stage) test irrespective of type of damage claimed', 'Tort – Negligence – Duty of care – Whether there was proximity between contractor and certifier given that contractor could submit disputes for arbitration – Whether there was proximity between contractor and certifier given no direct contractual relationship between contractor and certifier – Whether policy considerations negating finding of duty of care', 'Facts', 'The appellant was awarded a contract based on its alternative tender (“the Contract”) by the Government of Singapore (“the Employer”) to redevelop a medical facility at an army camp (“the Project”).', 'Pursuant to the Contract, the respondent was appointed the superintending officer (“SO”) of the Project and was responsible for, inter alia, certifying interim payments in respect of the appellant’s work for the Project.', 'While cl 32.8 of the Contract precluded the appellant from claiming against the Employer damages for the failure or delay of the respondent in certification, cl 34 provided that the appellant had the right to claim the amounts under-certified and interest thereon by commencing arbitration proceedings against the Employer.', 'The tender documents for the Project required the appellant to submit a summary of tender (“SOT”) and a cost breakdown (“CBD”).', 'As the SOT and CBD submitted by the appellant were based on its original base tender and did not accurately reflect the actual value of the works to be carried out by the appellant, the quantity surveyor for the Project (“KPK”) requested the appellant to submit a revised SOT and CBD.', 'Pursuant to this request, the appellant submitted a revised SOT and CBD which was incorporated into the Contract after further revisions in or about October 1999 (“the Contract SOT” and “the Contract CBD” respectively).', 'In September 2000, the appellant contended that numerous items were omitted from the Contract SOT and the Contract CBD and requested for KPK to approve a revised SOT and CBD for the future assessment of its progress claims.', 'The appellant eventually decided not to continue with the revision of the Contract SOT and the Contract CBD and subsequently novated the Contract to another contractor, suffering losses in the process.', 'The appellant then claimed against the respondent for negligence on the basis that the respondent owed it a duty of care to apply professional skill and judgment in certifying, in a fair and unbiased manner, payment for work carried out by the appellant to avoid causing it any pure economic loss.', 'The appellant claimed that the respondent had breached this duty by negligently undervaluing and under-certifying the appellant’s works.', 'The trial judge found that the respondent did not owe a duty of care to the appellant.', 'On appeal, the threshold issue was whether there was a duty of care owed by the respondent to the appellant and the applicable test for ascertaining the existence of a duty of care.', 'Held, dismissing the appeal:', '(1)    A single test should determine the imposition of a duty of care in all claims arising out of negligence, irrespective of the type of the damages claimed.', 'There was no justification for a general exclusionary rule against recovery of all economic losses, nor was there a need to adopt a different test for such cases.', 'The single test eliminated the perception that there were, at once, two or more tests which were equally applicable: at [71] and [72].']\n"
     ]
    }
   ],
   "source": [
    "cats = legal_cats(text)\n",
    "\n",
    "print(cats[0][10:30])"
   ]
  },
  {
   "cell_type": "code",
   "execution_count": 16,
   "metadata": {
    "tags": []
   },
   "outputs": [
    {
     "output_type": "stream",
     "name": "stdout",
     "text": [
      "[('UNCAT', 1.0), ('AXIOM', 0.4526105523109436), ('AXIOM', 0.5911222100257874), ('UNCAT', 0.9429351687431335), ('UNCAT', 1.0), ('UNCAT', 0.9965362548828125), ('CONCLUSION', 0.6653698086738586), ('UNCAT', 0.988778293132782), ('UNCAT', 0.9701417088508606), ('UNCAT', 0.8665805459022522), ('LEGAL_TEST', 0.9949630498886108), ('LEGAL_TEST', 0.5165076851844788), ('UNCAT', 0.9995095729827881), ('UNCAT', 1.0), ('UNCAT', 0.9995476603507996), ('UNCAT', 0.9678035974502563), ('UNCAT', 0.9433566927909851), ('UNCAT', 0.9999518394470215), ('UNCAT', 0.9877164959907532), ('UNCAT', 0.9806051254272461)]\n"
     ]
    }
   ],
   "source": [
    "print(cats[1][:20])"
   ]
  },
  {
   "source": [
    "## 4. Saving the predictions to a dataframe\n",
    "\n",
    "For easy visualisation of the results, we create a new dataframe and append the variable \"cats\" to three new columns of this dataframe: The list of individual sentences to a new column called \"sentence\", the name of the top scoring category called \"category\", and the score of the highest scoring category called \"score\"."
   ],
   "cell_type": "markdown",
   "metadata": {}
  },
  {
   "cell_type": "code",
   "execution_count": 17,
   "metadata": {},
   "outputs": [
    {
     "output_type": "execute_result",
     "data": {
      "text/plain": [
       "                                            sentence category     score\n",
       "0                                              Print    UNCAT  1.000000\n",
       "1  Spandeck Engineering (S) Pte Ltd v Defence Sci...    AXIOM  0.452611\n",
       "2                [2007] 4 SLR(R) 100; [2007] SGCA 37    AXIOM  0.591122\n",
       "3            Case Number : Civil Appeal No 3 of 2007    UNCAT  0.942935\n",
       "4                     Decision Date : 08 August 2007    UNCAT  1.000000"
      ],
      "text/html": "<div>\n<style scoped>\n    .dataframe tbody tr th:only-of-type {\n        vertical-align: middle;\n    }\n\n    .dataframe tbody tr th {\n        vertical-align: top;\n    }\n\n    .dataframe thead th {\n        text-align: right;\n    }\n</style>\n<table border=\"1\" class=\"dataframe\">\n  <thead>\n    <tr style=\"text-align: right;\">\n      <th></th>\n      <th>sentence</th>\n      <th>category</th>\n      <th>score</th>\n    </tr>\n  </thead>\n  <tbody>\n    <tr>\n      <th>0</th>\n      <td>Print</td>\n      <td>UNCAT</td>\n      <td>1.000000</td>\n    </tr>\n    <tr>\n      <th>1</th>\n      <td>Spandeck Engineering (S) Pte Ltd v Defence Sci...</td>\n      <td>AXIOM</td>\n      <td>0.452611</td>\n    </tr>\n    <tr>\n      <th>2</th>\n      <td>[2007] 4 SLR(R) 100; [2007] SGCA 37</td>\n      <td>AXIOM</td>\n      <td>0.591122</td>\n    </tr>\n    <tr>\n      <th>3</th>\n      <td>Case Number : Civil Appeal No 3 of 2007</td>\n      <td>UNCAT</td>\n      <td>0.942935</td>\n    </tr>\n    <tr>\n      <th>4</th>\n      <td>Decision Date : 08 August 2007</td>\n      <td>UNCAT</td>\n      <td>1.000000</td>\n    </tr>\n  </tbody>\n</table>\n</div>"
     },
     "metadata": {},
     "execution_count": 17
    }
   ],
   "source": [
    "# This creates a new dataframe with the three columns\n",
    "df_results = pd.DataFrame({\"sentence\" : cats[0], \"category\": [cat[0] for cat in cats[1]], \"score\": [cat[1] for cat in cats[1]]})\n",
    "\n",
    "# The first 5 rows of the new dataframe.\n",
    "df_results.head()"
   ]
  },
  {
   "source": [
    "We print the unique categories, and we see that they correspond to the five possible categories that spacy classifies text into.\n",
    "\n",
    "We also print the number of sentences that fall into each category: We see that the vast majority of sentences do not relate to any of the four categories (which makes sense since most sentences in a judgement are either describing the facts of the case / other cases or applying a test to the fact scenario.)"
   ],
   "cell_type": "markdown",
   "metadata": {}
  },
  {
   "cell_type": "code",
   "execution_count": 18,
   "metadata": {},
   "outputs": [
    {
     "output_type": "stream",
     "name": "stdout",
     "text": [
      "['UNCAT' 'AXIOM' 'CONCLUSION' 'LEGAL_TEST' 'ISSUE']\n"
     ]
    }
   ],
   "source": [
    "print(df_results[\"category\"].unique())"
   ]
  },
  {
   "cell_type": "code",
   "execution_count": 19,
   "metadata": {},
   "outputs": [
    {
     "output_type": "execute_result",
     "data": {
      "text/plain": [
       "UNCAT         483\n",
       "LEGAL_TEST     97\n",
       "AXIOM          66\n",
       "CONCLUSION     44\n",
       "ISSUE           6\n",
       "Name: category, dtype: int64"
      ]
     },
     "metadata": {},
     "execution_count": 19
    }
   ],
   "source": [
    "df_results[\"category\"].value_counts()"
   ]
  },
  {
   "source": [
    "### Visualising results of the classification\n",
    "\n",
    "We then print the first 30 sentences which were classified as most likely to be a legal test.\n",
    "\n",
    "#### Inspecting the sentences that were classified as a legal test:\n",
    "\n",
    "We see that the first few results contain the keyword \"test\", which probably corresponds to how blackstone was trained: The presence of the word \"test\" in a sentence increases the likelihood that the sentence would be referring to a legal test.\n",
    "\n",
    "Further, there are sentences that do not explicitly mention the word \"test\", but yet were correctly detected as a \"test\". For example, this sentence: \"The focus was on the closeness of the relationship between the parties, including physical, circumstantial and causal proximity, supported by the twin criteria of voluntary assumption of responsibility and reliance.\"\n",
    "\n",
    "This is likely because such keywords like \"physical, circumstantial and causal proximity\", \"voluntary assumption of responsibility and reliance\" directly relate to the test for duty of care in negligence. Hence while \"test\" itself does not appear in this sentence, these associated words that relate to the test for duty of care also increase the likelihood that the sentence refers to a legal test.\n",
    "\n",
    "Lastly, blackstone also categorises cases like \"Caparo Industries Plc v Dickman\" as a legal test, probably also due to the fact that the ratio for these cases relate to the test for duty of care in the UK (and blackstone was trained on UK legal data)."
   ],
   "cell_type": "markdown",
   "metadata": {}
  },
  {
   "cell_type": "code",
   "execution_count": 20,
   "metadata": {},
   "outputs": [
    {
     "output_type": "stream",
     "name": "stdout",
     "text": [
      "Tort – Negligence – Duty of care – Applicable test to determine existence of duty of care – Relationship between two-stage test and incremental approach – Application of two-stage test comprising first proximity and second policy considerations with threshold consideration of factual foreseeability – Incremental approach as methodological aid in applying specific criterion of two-stage test\n----------------------------------------\nTort – Negligence – Duty of care – Applicable test to determine existence of duty of care – Whether type of damage claimed should result in different test – Application of single (two-stage) test irrespective of type of damage claimed\n----------------------------------------\n(1)    A single test should determine the imposition of a duty of care in all claims arising out of negligence, irrespective of the type of the damages claimed.\n----------------------------------------\nThere was no justification for a general exclusionary rule against recovery of all economic losses, nor was there a need to adopt a different test for such cases.\n----------------------------------------\nThe single test eliminated the perception that there were, at once, two or more tests which were equally applicable: at [71] and [72].\n----------------------------------------\n(2)    The test to determine the imposition of a duty of care was a two-stage test comprising of, first, proximity and, second, policy considerations, which were together preceded by the threshold question of factual foreseeability.\n----------------------------------------\nThe first stage of proximity required sufficient legal proximity between the claimant and defendant for a duty of care to arise.\n----------------------------------------\nThe focus was on the closeness of the relationship between the parties, including physical, circumstantial and causal proximity, supported by the twin criteria of voluntary assumption of responsibility and reliance.\n----------------------------------------\nAlcock v Chief Constable of South Yorkshire Police [1992] 1 AC 310 (refd)\n----------------------------------------\nArenson v Casson Beckman Rutley & Co [1977] AC 405 (refd)\n----------------------------------------\nCaparo Industries Plc v Dickman [1989] QB 653 (refd)\n----------------------------------------\nCaparo Industries Plc v Dickman [1990] 2 AC 605 (refd)\n----------------------------------------\nCustoms and Excise Commissioners v Barclays Bank plc [2005] 1 WLR 2082 (not folld)\n----------------------------------------\nCustoms and Excise Commissioners v Barclays Bank plc [2007] 1 AC 181 (refd)\n----------------------------------------\nDonoghue v Stevenson [1932] AC 562 (refd)\n----------------------------------------\nHay or Bourhill v Young [1943] AC 92 (refd)\n----------------------------------------\nHo Soo Fong v Standard Chartered Bank [2007] 2 SLR(R) 181; [2007] 2 SLR 181 (refd)\n----------------------------------------\nMan B&W Diesel S E Asia Pte Ltd v PT Bumi International Tankers [2004] 2 SLR(R) 300; [2004] 2 SLR 300 (refd)\n----------------------------------------\nMohd bin Sapri v Soil-Build (Pte) Ltd [1996] 2 SLR(R) 223; [1996] 2 SLR 505 (refd)\n----------------------------------------\nPacific Associates Inc v Baxter [1990] 1 QB 993 (folld)\n----------------------------------------\nRSP Architects Planners & Engineers v Ocean Front Pte Ltd [1995] 3 SLR(R) 653; [1996] 1 SLR 113 (refd)\n----------------------------------------\nSmith v Eric S Bush [1990] 1 AC 831 (refd)\n----------------------------------------\nSunny Metal & Engineering Pte Ltd v Ng Khim Ming Eric [2007] 1 SLR(R) 853; [2007] 1 SLR 853 (refd)\n----------------------------------------\nSunrise Crane, The [2004] 4 SLR(R) 715; [2004] 4 SLR 715 (refd)\n----------------------------------------\nTV Media Pte Ltd v De Cruz Andrea Heidi [2004] 3 SLR(R) 543; [2004] 3 SLR 543 (refd)\n----------------------------------------\n[Editorial note: The decision from which this appeal arose is reported at [2007] 1 SLR(R) 720.]\n----------------------------------------\n23     In considering the duty of care issue, the trial judge applied both the two-stage test in Anns v Merton London Borough Council [1978] AC 728 (“Anns”) and the three-part test in Caparo Industries Plc v Dickman [1990] 2 AC 605 (“Caparo”) and reached the same result that there was no duty of care, an implicit judicial recognition of the state of confusion which belabours the local law in respect to the applicable test to be used to determine the existence of a duty of care for cases involving claims for pure economic loss (“cases of pure economic loss”) or, indeed, cases involving claims of personal injuries and physical damage (collectively “cases of physical damage”).\n----------------------------------------\nApplicable test for duty of care\n----------------------------------------\n26     Before us, the appellant submitted that the proper test to ascertain the existence of a duty of care for cases of pure economic loss should be a combination of the common elements from both the two-stage test in Anns and the three-part test in Caparo, citing the views contained in Andrew Phang, Saw Cheng Lim & Gary Chan, “Of Precedent, Theory and Practice – The Case for a Return to Anns” [2006] Sing JLS 1.\n----------------------------------------\nA broad two-stage approach or any other approach is only a framework, a more or less methodical way of tackling a problem.\n----------------------------------------\nLord Buckmaster also alluded to this concern when he said in Donoghue v Stevenson [1932] AC 562 at 577, “If one step, why not fifty?”\n----------------------------------------\nThis statement was then generally understood to mean that liability was founded on the test of pure foreseeability alone: see Hay or Bourhill v Young [1943] AC 92 at 107, where Lord Wright accepted Lord Atkin’s statement as establishing the “general concept of reasonable foresight as the criterion of negligence”.\n----------------------------------------\n32     However, it soon became apparent that a test based on foreseeability alone could be too wide and too pliable as a basis of liability in some situations.\n----------------------------------------\nThe two-stage test in Anns\n----------------------------------------\n33     The pendulum which swung between foreseeability and policy as the determinant of duty showed signs of resting in Arenson v Casson Beckman Rutley & Co [1977] AC 405, in which Lord Simon of Glaisdale appeared to endorse the idea that where Lord Atkin’s neighbour principle was seen as fixing the defendant with responsibility for the claimant’s damage, liability should follow, save where there was some good reason why it should not, and identified “public policy” as the qualifying factor (at 419).\n----------------------------------------\n34     It is well known that there is some controversy regarding the meaning of the first stage of the test: Did it relate only to the factual issue of reasonable foreseeability or did it introduce the legal conception of proximity (see further Phang, Saw & Chan ([26] supra) at 40–41)?\n----------------------------------------\nFor the moment, it suffices to note that this pronouncement in Anns is not only significant for the elucidation of a two-stage test to determine duty, it also introduced the concept of a truly “universal” test in that it could be applied without reference to previous decisions where the duty might or might not have been seen to have existed.\n----------------------------------------\nThe two-stage test in Anns doubted and overruled\n----------------------------------------\nIn Governors of the Peabody Donation Fund v Sir Lindsay Parkinson & Co Ltd [1985] AC 210, after quoting Lord Wilberforce’s test, Lord Keith of Kinkel made the criticism (at 240) that:\n----------------------------------------\nThe three-part test in Caparo\n----------------------------------------\n"
     ]
    }
   ],
   "source": [
    "for sentence in df_results.loc[df_results[\"category\"] == \"LEGAL_TEST\", \"sentence\"][:40]:\n",
    "    print(sentence)\n",
    "    print(\"-\" * 40)"
   ]
  },
  {
   "source": [
    "#### Inspecting the sentences that were classified as an axiom:\n",
    "\n",
    "Generally, we see that the sentences that are classified as axioms have the word \"general principle\". General principles are generally understood (pun intended) to be axioms, in the sense that both are broad statements that aim to generalise a certain area of knowledge.\n",
    "\n",
    "However, we also see that blackstone is not so simplistic to simply classify a sentence as an axiom just because it has the phrase \"general principle\". \n",
    "\n",
    "For example, we have these sentences that are also classified as axioms (and which a reasonable person would also judge them to be axioms):\n",
    "\n",
    "\"There is no escape from the truth that, whatever formula be used, the outcome in a grey area case has to be determined by judicial judgment.\"\n",
    "\n",
    "\"In the tort of negligence, careless conduct cannot, by itself, be used as a basis for tortious liability.\"\n",
    "\n",
    "From these examples, we can see the language model of blackstone is quite nuanced, as it takes into account the tone of the language used as well. For example, \"no escape from the truth\" (referring to a broad generalisation), \"in the tort of negligence\" (this phrase refers broadly to some concept in the tort of negligence). Generally, the method in which blackstone takes into account \"tone\" is just noting that such a sequence of words are more likely to occur in a sentence that relates to an axiom about the law. However, such a probabilistic model is still relatively successful in this regard."
   ],
   "cell_type": "markdown",
   "metadata": {}
  },
  {
   "cell_type": "code",
   "execution_count": 21,
   "metadata": {},
   "outputs": [
    {
     "output_type": "stream",
     "name": "stdout",
     "text": [
      "Spandeck Engineering (S) Pte Ltd v Defence Science & Technology Agency\n----------------------------------------\n[2007] 4 SLR(R) 100; [2007] SGCA 37\n----------------------------------------\n[Observation: To balance fair and just results and the imposition of indeterminate liability on an indeterminate class of tortfeasors without compromising the tort of negligence as a tool for the fair redistribution of economic wealth was the crucial issue for the courts, and the answer was in legal control mechanisms developed by the courts: at [29] and [30].]\n----------------------------------------\nEdgeworth Constructions Ltd v ND Lea & Associates Ltd (1993) 107 DLR (4th) 169 (refd)\n----------------------------------------\nElguzouli-Daf v Commission of Police of the Metropolis [1995] QB 335 (refd)\n----------------------------------------\nGovernors of the Peabody Donation Fund v Sir Lindsay Parkinson & Co Ltd [1985] AC 210 (refd)\n----------------------------------------\nHedley Byrne & Co Ltd v Heller & Partners Ltd [1964] AC 465 (refd)\n----------------------------------------\nIkumene Singapore Pte Ltd v Leong Chee Leng [1993] 2 SLR(R) 480; [1993] 3 SLR 24 (refd)\n----------------------------------------\nJ Jarvis and Sons Ltd v Castle Wharf Developments Ltd [2001] EWCA Civ 19 (refd)\n----------------------------------------\nJunior Books Ltd v Veitchi Co Ltd [1983] 1 AC 520 (refd)\n----------------------------------------\nLeigh and Sillivan Ltd v Aliakmon Shipping Co Ltd [1985] QB 350 (refd)\n----------------------------------------\nLeigh and Sillavan Ltd v Aliakmon Shipping Co Ltd [1986] AC 785 (refd)\n----------------------------------------\nMarc Rich & Co AG v Bishop Rock Marine Co Ltd [1994] 1 WLR 1071 (refd)\n----------------------------------------\nRolls-Royce New Zealand Ltd v Carter Holt Harvey Ltd [2005] 1 NZLR 324 (refd)\n----------------------------------------\nRSP Architects Planners & Engineers v MCST Plan No 1075 [1999] 2 SLR(R) 134; [1999] 2 SLR 449 (refd)\n----------------------------------------\nSouth Pacific Manufacturing Co Ltd v New Zealand Security Consultants & Investigations Ltd [1992] 2 NZLR 282 (refd)\n----------------------------------------\nSpartan Steel & Alloys Ltd v Martin & Co (Contractors) Ltd [1973] QB 27 (refd)\n----------------------------------------\nStandard Chartered Bank v Coopers & Lybrand [1993] 3 SLR(R) 29; [1993] 3 SLR 712 (refd)\n----------------------------------------\nHer judgment is reported in Spandeck Engineering (S) Pte Ltd v Defence Science & Technology Agency [2007] 1 SLR(R) 720 (“the Judgment”).\n----------------------------------------\nWhether these decisions have laid down a general principle, that pure economic loss can be recovered in all cases of negligence, is a matter we wish to re-examine because of its implications for the redistribution of wealth in the economy.\n----------------------------------------\nFurthermore, it is important that we revisit this issue as the Singapore courts have also applied a different test to determine the existence of a duty of care when the type of damages claimed is pure economic loss, and when it is for loss associated with physical damage, even though the foundation of the two different tests is derived from a common source, viz, the well-known English decisions in Anns and Caparo.\n----------------------------------------\nThe common law is built on interconnected layers of principles, universal and particular, each dependent on and interacting with the other, held together by the overarching goal of fairness and justice.\n----------------------------------------\nTo understand this is to comprehend the common law’s eternal search for rational and universal principles in the law.\n----------------------------------------\nWith the universal in the form of general principles, the law will be a coherent body of rules, and not consist of singular instances of judicial decisions unrelated to each other.\n----------------------------------------\nThese general principles provide the focus to which the particular (viz, the facts of decided cases and the present case) must then be analysed so that the courts may, within this aggregation of the universal and the particular, reach a result that is fair and just.\n----------------------------------------\nAs Cooke P put it in South Pacific Manufacturing Co Ltd v New Zealand Security Consultants & Investigations Ltd [1992] 2 NZLR 282 at 294:\n----------------------------------------\nThere is no escape from the truth that, whatever formula be used, the outcome in a grey area case has to be determined by judicial judgment.\n----------------------------------------\nUltimately, the resolution of a claim in negligence should be based on general principles that have universal application to every factual situation which gives rise to a legal dispute either on liability or damages.\n----------------------------------------\n29     In the tort of negligence, careless conduct cannot, by itself, be used as a basis for tortious liability.\n----------------------------------------\nLord Atkin, who may be regarded as the founder of the modern law of negligence, referred to this heavy responsibility in Donoghue v Stevenson (at 583–584):\n----------------------------------------\n[I]n the branch of the law which deals with civil wrongs, dependent in England at any rate entirely upon the application by judges of general principles also formulated by judges, it is of particular importance to guard against the danger of stating propositions of law in wider terms than is necessary, lest essential factors be omitted in the wider survey and the inherent adaptability of English law be unduly restricted. [\n----------------------------------------\nIndeed, the various tests which have been applied by the courts following Donoghue v Stevenson are but a manifestation of one or more of the legal control mechanisms formulated by the courts within the general principles.\n----------------------------------------\n31     Although there were some cases prior to 1932 which purported to articulate some kind of general principle to determine the existence of a duty of care (see, for example, Heaven v Pender (1883) 11 QBD 503 at 509, per Brett MR), the search for a universal basis for duty is generally regarded to have begun with the House of Lords decision of Donoghue v Stevenson.\n----------------------------------------\nIn Spartan Steel & Alloys Ltd v Martin & Co (Contractors) Ltd [1973] QB 27, Lord Denning MR said (at 36):\n----------------------------------------\n37     Following this, Lord Brandon of Oakbrook remarked in Leigh and Sillavan Ltd v Aliakmon Shipping Co Ltd [1986] AC 785 at 815 that the propositions laid down by Lord Wilberforce in Anns “[do] not provide, and cannot … have been intended by Lord Wilberforce to provide, a universally applicable test of the existence and scope of a duty of care in the law of negligence”.\n----------------------------------------\nIn my opinion it is clear that Anns did not proceed upon any basis of established principle, but introduced a new species of liability governed by a principle indeterminate in character but having the potentiality of covering a wide range of situations, involving chattels as well as real property, in which it had never hitherto been thought that the law of negligence had any proper place.\n----------------------------------------\nIn relation to the scope of the duty owed by a local authority it proceeded upon what must, with due respect to its source, be regarded as a somewhat superficial examination of principle and there has been extreme difficulty, highlighted most recently by the speeches in [D & F Estates Ltd v Church Commissioners for England [1989] AC 177], in ascertaining upon exactly what basis of principle it did proceed.\n----------------------------------------\nWhilst recognising, of course, the importance of the underlying general principles common to the whole field of negligence, I think the law has now moved in the direction of attaching greater significance to the more traditional categorisation of distinct and recognisable situations as guides to the existence, the scope and the limits of the varied duties of care which the law imposes.\n----------------------------------------\nProf Stanton is of the view (at p 39) that, at a general level, “incrementalism may be regarded as restoring a traditional method of adjudication to the tort of negligence” in that it remains intertwined with a formula-based approach, and that the general principle should henceforth be applied in a more cautious manner.\n----------------------------------------\n43     If incrementalism is intended to return the development of liability in negligence to the basis that discrete sets of rules should govern different factual scenarios, the central problem, as Prof Stanton noted at p 48, is that it requires a return to an approach which has been systematically destroyed since Donoghue v Stevenson, as generations of lawyers have since been trained to believe that the tort of negligence is based on a common general principle.\n----------------------------------------\n"
     ]
    }
   ],
   "source": [
    "for sentence in df_results.loc[df_results[\"category\"] == \"AXIOM\", \"sentence\"][:40]:\n",
    "    print(sentence)\n",
    "    print(\"-\" * 40)"
   ]
  },
  {
   "source": [
    "#### Inspecting the sentences that were classified as an issue:\n",
    "\n",
    "There are only 6 sentences that were classified as issues, and only the first sentence corresponds to what we would think of as an legal issue.\n",
    "\n",
    "The tone of the other sentences (apart from \"the respondent's arguments\") seem to relate to some kind of opinion of the court, usually after it has set out the issue. \n",
    "\n",
    "The miscategorisation could be because blackstone was trained on UK case law, and (anecdotally speaking), the older judgements in the UK courts tend to use run on sentences, which links phrases relating to the actual issue to the court's approach to how to resolve the issue (ie. phrases that include \"in our view\", \"with respect\", \"the question has to be approached\").\n",
    "\n",
    "Nevertheless, at least the categorisation of these sentences are somewhat related to the context of the legal issue at hand. (In the case of Spandeck, the issue is the first sentences classified as an ISSUE: \"the threshold issue was whether there was a duty of care owed by the respondent to the appellant and the applicable test for ascertaining the existence of a duty of care.\")"
   ],
   "cell_type": "markdown",
   "metadata": {}
  },
  {
   "cell_type": "code",
   "execution_count": 22,
   "metadata": {},
   "outputs": [
    {
     "output_type": "stream",
     "name": "stdout",
     "text": [
      "On appeal, the threshold issue was whether there was a duty of care owed by the respondent to the appellant and the applicable test for ascertaining the existence of a duty of care.\n----------------------------------------\nRather the question has to be approached in two stages.\n----------------------------------------\n35     In our view, these criticisms have arisen because of the perceived divorce of the particular from the universal (see [28] above).\n----------------------------------------\n71     As such, in our view, a single test is preferable in order to determine the imposition of a duty of care in all claims arising out of negligence, irrespective of the type of the damages claimed, and this should include claims for pure economic loss, whether they arise from negligent misstatements or acts/omissions.\n----------------------------------------\nAlthough this consideration has been incorporated as an element within the ‘three-part test’ itself, its incorporation is, with respect, unnecessary.\n----------------------------------------\n(2)   The respondent’s arguments\n----------------------------------------\n"
     ]
    }
   ],
   "source": [
    "for sentence in df_results.loc[df_results[\"category\"] == \"ISSUE\", \"sentence\"][:696]:\n",
    "    print(sentence)\n",
    "    print(\"-\" * 40)"
   ]
  },
  {
   "source": [
    "#### Inspecting sentences that were classified as a conclusion:\n",
    "\n",
    "On first glance, we see that blackstone generally classifies two types of \"conclusions\": \n",
    "\n",
    "The first type is the summary of case law that the court cites in its holding.\n",
    "\n",
    "For example: \"That pendulum finally became stationary in favour of an approach which meshed foreseeability with public policy in Anns ([23] supra), where Lord Wilberforce influentially said (at 751–752)\"\n",
    "\n",
    "\"A fair reading of the sentence (see [33] above) beginning with “in order to establish … it is not necessary to bring the facts within those of previous situations” does not preclude an incremental approach as the expression “the facts” does necessarily connote all the facts, and is capable of implying that it is only necessary to bring only some of the facts.\"\n",
    "\n",
    "\"There can be no doubt that to depart from the decision would re-establish a degree of certainty in this field of law which it has done a remarkable amount to upset.\"\n",
    "\n",
    "These sentences are summaries of prior precedent cases that are relevant to the decision of the case at hand.\n",
    "\n",
    "The second type that blackstone classifies as a conclusion is the conclusion of the current case itself. For example:\n",
    "\n",
    "\"Notwithstanding these judicial views, we agree with Phang, Saw & Chan ([26] supra at 42) that these observations are “puzzling, to say the least”.\"\n",
    "\n",
    "\"On the facts of the present case, the same reasons above articulated by Russell LJ in Pacific Associates can also be characterised as policy considerations under the second stage of the test in Anns.\"\n",
    "\n",
    "\n",
    "The last type of \"conclusion\" is the CA's summary of the lower court's decision about the current case: \"The trial judge found that the respondent did not owe a duty of care to the appellant....\"\n",
    "\n",
    "Overall, blackstone seemed to have done a relatively good job at detecting sentences that are \"summarial\" in nature, without relying on specific key words such as \"in conclusion\" etc. It also did not classify sentences that are merely factual recounts of cases, and instead only classified the CA's summary of the case after the CA had decribed the relevant facts."
   ],
   "cell_type": "markdown",
   "metadata": {}
  },
  {
   "cell_type": "code",
   "execution_count": 23,
   "metadata": {},
   "outputs": [
    {
     "output_type": "stream",
     "name": "stdout",
     "text": [
      "Coram : Chan Sek Keong CJ; Andrew Phang Boon Leong JA; V K Rajah JA\n",
      "----------------------------------------\n",
      "Policy considerations, such as the presence of a contractual matrix which clearly defined the rights and liabilities of the parties and their relative bargaining positions, then arose and were applied to the factual matrix to determine whether or not to negate this prima facie duty: at [77], [81], [83] and [115].\n",
      "----------------------------------------\n",
      "However, the absence of a factual precedent in analogous situations of proximity and/or policy considerations should not preclude the court from extending liability where it was just and fair to do so, taking into account the relevant policy consideration against indeterminate liability against a tortfeasor: at [43], [73] and [115].\n",
      "----------------------------------------\n",
      "Adopting an incremental approach with respect to the requirement of proximity and in view of cl 34, there was no voluntarily assumption of responsibility nor reliance and the respondent could not be held to have a duty of care to the appellant to certify the payments for work done correctly: at [87], [89], [97], [99] to [102], [108] and [109].\n",
      "----------------------------------------\n",
      "Anns v Merton London Borough Council [1978] AC 728 (folld)\n",
      "----------------------------------------\n",
      "D v Kong Sim Guan [2003] 3 SLR(R) 146; [2003] 3 SLR 146 (refd)\n",
      "----------------------------------------\n",
      "Dorset Yacht Co Ltd v Home Office [1969] 2 QB 412 (refd)\n",
      "----------------------------------------\n",
      "Murphy v Brentwood District Council [1991] 1 AC 398 (not folld)\n",
      "----------------------------------------\n",
      "Pang Koi Fa v Lim Djoe Phing [1993] 2 SLR(R) 366; [1993] 3 SLR 317 (refd)\n",
      "----------------------------------------\n",
      "Richardson v Mellish (1824) 2 Bing 229; 130 ER 294 (refd)\n",
      "----------------------------------------\n",
      "Sutherland Shire Council v Heyman (1985) 60 ALR 1 (folld)\n",
      "----------------------------------------\n",
      "Ultramares Corp v Touche, Niven & Co 255 NY 170 (1931) (refd)\n",
      "----------------------------------------\n",
      "United Project Consultants Pte Ltd v Leong Kwok Onn [2005] 4 SLR(R) 214; [2005] 4 SLR 214 (refd)\n",
      "----------------------------------------\n",
      "The trial judge found that the respondent did not owe a duty of care to the appellant to avoid causing the latter to suffer pure economic loss through its (the respondent’s) negligent conduct: the Judgment at [92]. Notwithstanding this finding, the trial judge went on to consider the other “main issues that arose from the evidence adduced at the trial” and held that even if a duty of care had been owed, the evidence was “against the [appellant]” and “clearly disproved the breach of any such duty by the [respondent] to the [appellant]”: the Judgment at [92], [93] and [190].\n",
      "----------------------------------------\n",
      "This was what Cardozo CJ was afraid of in Ultramares Corp v Touche, Niven & Co 255 NY 170 (1931) at 179, ie, the imposition of “liability in an indeterminate amount for an indeterminate time to an indeterminate class”.\n",
      "----------------------------------------\n",
      "Similarly, in Dorset Yacht Co Ltd v Home Office [1969] 2 QB 412, Lord Denning MR said (at 426):\n",
      "----------------------------------------\n",
      "That pendulum finally became stationary in favour of an approach which meshed foreseeability with public policy in Anns ([23] supra), where Lord Wilberforce influentially said (at 751–752):\n",
      "----------------------------------------\n",
      "Whether or not Lord Wilberforce intended for his test to apply in a vacuum, distanced from all considerations of prior decisions, is not exactly clear, since the essence of the common law (which Lord Wilberforce must have known) is by its very nature incremental.\n",
      "----------------------------------------\n",
      "A fair reading of the sentence (see [33] above) beginning with “in order to establish … it is not necessary to bring the facts within those of previous situations” does not preclude an incremental approach as the expression “the facts” does necessarily connote all the facts, and is capable of implying that it is only necessary to bring only some of the facts.\n",
      "----------------------------------------\n",
      "Similarly, the Australian High Court gave reasons in Sutherland Shire Council v Heyman (1985) 60 ALR 1 (“Sutherland”) for declining to follow the direction in which Anns appeared to be taking the law in England.\n",
      "----------------------------------------\n",
      "38     The two-stage test in Anns was finally overruled by the House of Lords in Murphy v Brentwood District Council [1991] 1 AC 398 (“Murphy”).\n",
      "----------------------------------------\n",
      "The result has been to keep the effect of the decision within reasonable bounds, but that has been achieved only by applying strictly the words of Lord Wilberforce and by refusing to accept the logical implications of the decision itself.\n",
      "----------------------------------------\n",
      "There can be no doubt that to depart from the decision would re-establish a degree of certainty in this field of law which it has done a remarkable amount to upset.\n",
      "----------------------------------------\n",
      "In Smith v Eric S Bush [1990] 1 AC 831, Lord Griffiths, in dealing with the question of when the law deems a person who has given advice to have assumed responsibility to the recipient who has acted on it and suffered damage, replied (at 865):\n",
      "----------------------------------------\n",
      "Lord Oliver of Aylmerton said (at 487) that if the infliction of loss by the defendant on the claimant was to be categorised as wrongful, it was necessary to find some factor beyond the mere occurrence of the loss and the fact that its occurrence could be foreseen.\n",
      "----------------------------------------\n",
      "The reason for this appears to be a fear of indeterminate liability owing to the fluid nature of pure economic losses which are not strictly restricted by the physical interaction of the parties involved (see further [66] below).\n",
      "----------------------------------------\n",
      "Lord Oliver of Aylmerton lamented in Caparo ([23] supra at 633) thus:\n",
      "----------------------------------------\n",
      "49     On appeal in Customs and Excise Commissioners ([43] supra), the House of Lords did not express a definitive view on whether or not the three “tests” mentioned by Longmore LJ were substantive tests in their own right and were all to be applied in any given case.\n",
      "----------------------------------------\n",
      "It is abundantly clear that in Ocean Front this court did not follow the broad proposition laid down by Lord Wilberforce in Anns.\n",
      "----------------------------------------\n",
      "57     That the “two-stage process” was only applicable to cases of pure economic loss was confirmed in The Sunrise Crane [2004] 4 SLR(R) 715.\n",
      "----------------------------------------\n",
      "However, the dissenting judge in The Sunrise Crane took the view that a uniform approach should be applied to all cases of negligence, with the salient features of each case being determinative of the existence and scope of duty.\n",
      "----------------------------------------\n",
      "58     The result of the majority’s pronouncement in The Sunrise Crane, as Dr Kumaralingam Amirthalingam notes in “The Sunrise Crane – Shedding New Light or Casting Old Shadows on Duty of Care?” [\n",
      "----------------------------------------\n",
      "In the case of Leigh and Sillivan Ltd v Aliakmon Shipping Co Ltd [1985] QB 350, Oliver LJ (as he then was) recognised this point when he said (at 375):\n",
      "----------------------------------------\n",
      "Similarly, he, as Lord Oliver in Murphy ([38] supra), reiterated this point (at 485):\n",
      "----------------------------------------\n",
      "However, the absence of a factual precedent, which implies the presence of a novel situation, should not preclude the court from extending liability where it is just and fair to do so, taking into account the relevant policy consideration against indeterminate liability against a tortfeasor.\n",
      "----------------------------------------\n",
      "As Lord Wilberforce himself observed in McLoughlin v. O’Brian [1983] 1 A.C. 410, 420, it is clear that foreseeability does not of itself, and automatically, lead to a duty of care.\n",
      "----------------------------------------\n",
      "The truth is that the trilogy of cases referred to by Lord Wilberforce in Anns v. Merton London Borough Council [1978] A.C. 728, 751, each demonstrate particular sets of circumstances, differing in character, which were adjudged to have the effect of bringing into being a relationship apt to give rise to a duty of care.\n",
      "----------------------------------------\n",
      "80     Notwithstanding these judicial views, we agree with Phang, Saw & Chan ([26] supra at 42) that these observations are “puzzling, to say the least”.\n",
      "----------------------------------------\n",
      "In this respect, we agree with Nicholas J Mullany when he notes in “Proximity, Policy and Procrastination” (1992) 9 Aust Bar Rev 80 at 83 that:\n",
      "----------------------------------------\n",
      "93     Finally, the appellant pointed out that cl 32.8 of the Contract made it clear that the appellant had no remedy vis-à-vis the Employer for “any damages, whether by way of interest or otherwise, for any failure or delay by the [SO] in certifying any payment due or payable to the Contractor”.\n",
      "----------------------------------------\n",
      "Since cl 32.8 had severely limited any recourse by the appellant to the Employer for damages arising from any failure or delay by the respondent in certifying any payment due or payable to the contractor, it was argued that the decision of the English Court of Appeal in Pacific Associates Inc v Baxter [1990] 1 QB 993 (“Pacific Associates”), which denied a duty of care in similar circumstances, was distinguishable as in that case there was no such restriction of the contractor’s right of recourse to the employer.\n",
      "----------------------------------------\n",
      "As such, the court could not accept that the engineer had held himself out as accepting a duty of care outside the contractual framework, or that the contractor had relied on such an assumption of responsibility.\n",
      "----------------------------------------\n",
      "103     Pacific Associates has been followed in the Australian case of John Holland Construction and Engineering Pty Ltd v Majorca Projects Pty Ltd (2000) 16 Const LJ 114 (“John Holland”).\n",
      "----------------------------------------\n",
      "114    On the facts of the present case, the same reasons above articulated by Russell LJ in Pacific Associates can also be characterised as policy considerations under the second stage of the test in Anns.\n",
      "----------------------------------------\n"
     ]
    }
   ],
   "source": [
    "for sentence in df_results.loc[df_results[\"category\"] == \"CONCLUSION\", \"sentence\"][:696]:\n",
    "    print(sentence)\n",
    "    print(\"-\" * 40)"
   ]
  },
  {
   "source": [
    "## 6. Concluding remarks\n",
    "\n",
    "### About the data cleaning process:\n",
    "\n",
    "We walked through the steps needed to prepare the data such that blackstone can be used: From importing the raw text file of the Spandeck case, to removing the formatting (like the new tab and new line formatting) from the text, to parsing the cleaned text into spacy to convert the raw text into a spacy document, and finally predicting using blackstone on individual sentences.\n",
    "\n",
    "Generally, the \"exciting\" part of data analysis (ie getting classification and predictions) is also the easiest part of the process. The majority of the work is spent on data cleaning and preparation.\n",
    "\n",
    "### About blackstone's performance on the Spandeck case:\n",
    "\n",
    "We see that overall, blackstone has performed relatively well in its classification. Inspecting the classifications manually did not reveal many predictions by blackstone that did not seem to make sense, given the category. Most classifications could be plausibly explained to belong to a particular category because of certain phrases that indicated a \"conclusion\" or \"axiom\".\n",
    "\n",
    "Interestingly, the classification of conclusions and axioms seem to overlap: A conclusion (or summary) of a often cited precedent (such as Donoghue v Stevenson) could be construed to be an axiom about the test for duty of care as well. (ie. In that the test is always something about the reasonable foreseeability of harm). Therefore, if one were to use blackstone to conduct data analytics of case precedent and principles, it would be good to look at those sentences classified as \"conclusion\" and and those classified as \"axioms\", as it casts a wider \"net\" on classifying legal principles.\n",
    "\n",
    "### Possible future uses of Blackstone in Singapore's local context:\n",
    "\n",
    "Blackstone's performance on local case law seems to be promising, especially since it was trained on UK case law. Perhaps blackstone can be further trained on local case law in the future. This would require labelled local case law (ie. each sentence in the case assigned a category by a human) across a wide spectrum of legal issues.\n",
    "\n",
    "With more robust training of blackstone to adapt it to local case law, one direct application of it is the partial automation of case headnotes which are currently manually done by Justices Law Clerks. At the very least, blackstone can assist JLCs in writing these headnotes by first providing a preliminary classification of the case, which could point the JLCs to the relevant parts to further refine the summary. "
   ],
   "cell_type": "markdown",
   "metadata": {}
  }
 ]
}