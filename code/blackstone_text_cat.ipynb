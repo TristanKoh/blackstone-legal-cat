{
 "metadata": {
  "language_info": {
   "codemirror_mode": {
    "name": "ipython",
    "version": 3
   },
   "file_extension": ".py",
   "mimetype": "text/x-python",
   "name": "python",
   "nbconvert_exporter": "python",
   "pygments_lexer": "ipython3",
   "version": "3.7.5-final"
  },
  "orig_nbformat": 2,
  "kernelspec": {
   "name": "blackstone",
   "display_name": "blackstone",
   "language": "python"
  }
 },
 "nbformat": 4,
 "nbformat_minor": 2,
 "cells": [
  {
   "source": [
    "# Legal Text Classification with Blackstone\n",
    "\n",
    "### Author: Tristan Koh, NUS Law Year 2\n",
    "### GitHub: https://github.com/TristanKoh\n",
    "\n",
    "This Jupyter notebook demonstrates the uses of Blackstone on Singaporean case law. By doing so, I hope to encourage others to get their hands dirty with basic programming and data science, especially law students that are interested in legal technology. Even for students whose interest lies in the law of technology rather than technology of law, I personally believe that one cannot simply discuss \"technology\" in the abstract when formulating legal rules that govern such technology.\n",
    "\n",
    "At the same time, I empathise with those who may be apprehensive of programming / coding, as I was one and a half years ago. Hence, through this notebook, I aim to explain each step in the code as simply as possible, to demonstrate that one does not need to be particularly talented to self-learn programming.\n",
    "\n"
   ],
   "cell_type": "markdown",
   "metadata": {}
  },
  {
   "source": [
    "## About Blackstone\n",
    "\n",
    "Blackstone is a Python package that uses Natural Language Processing (NLP) techniques to detect linguistic features in case law and classify the text into 5 categories.\n",
    "\n",
    "The five categories are:\n",
    "\n",
    "AXIOM - The text appears to postulate a well-established principle\n",
    "\n",
    "CONCLUSION - The text appears to make a finding, holding, determination or conclusion\n",
    "\n",
    "ISSUE - The text appears to discuss an issue or question\n",
    "\n",
    "LEGAL_TEST - The test appears to discuss a legal test\n",
    "\n",
    "UNCAT - The text does not fall into one of the four categories above"
   ],
   "cell_type": "markdown",
   "metadata": {}
  },
  {
   "source": [
    "## How Blackstone fits into the broader data science context\n",
    "\n",
    "As computers cannot understand text as humans do, NLP packages like Blackstone provide a set of utilities that allows us to create a mathematical model of the text, such that computers are able to process natural language. We call these models \"text representations\". The simplest of text representations (not used in Blackstone) is the Bag-of-Words representation. It represents the text as a count of words in the document.\n",
    "\n",
    "As you may imagine, such a representation loses significant semantic meaning, as it ignores word order and relative frequency of words in the text. This means that commonly used but less meaningful words like \"can\" and \"one\" have higher weightage in the model than more meaningful words like \"technology\" and \"programming\". \n",
    "\n",
    "Therefore, there are other, more complicated text representations that retain more semantic meaning in the text, such as as a Tf-IDF representation (which is essentially a weighted count of words) and word embeddings.\n",
    "\n",
    "Blackstone uses the latter model. For brevity, this article (https://machinelearningmastery.com/what-are-word-embeddings/) better explains how word embeddings work much better than I can, so I shall not go further into the details here.\n",
    "\n",
    "To demonstrate the usage and performance of Blackstone, I used the seminal Singaporean tort case of Spandeck v DSTA Agency (2007) 4 SLR(R) 100.\n",
    "\n",
    "The rest of this jupyter notebook documents the text cleaning process and the prediction of the above legal categories."
   ],
   "cell_type": "markdown",
   "metadata": {}
  },
  {
   "source": [
    "## 1. Importing relevant packages and the data file\n",
    "\n",
    "Before we begin, certain packages need to be imported such that it would allow neater and more efficient management of the data. Packages are basically code written in Python that provide specific functionality that are not present in Python itself.\n",
    "\n",
    "The key packages that are used for this notebook are:\n",
    "\n",
    "1. Pandas - Enables the structuring of data in a tabular format, with rows and columns (similar to an Excel spreadsheet).\n",
    "\n",
    "2. Blackstone - As mentioned, a NLP package.\n",
    "\n",
    "3. Path - Auxilliary package that creates the relative file path to the file that contains case that we are going to test Blackstone on."
   ],
   "cell_type": "markdown",
   "metadata": {}
  },
  {
   "cell_type": "code",
   "execution_count": 6,
   "metadata": {},
   "outputs": [],
   "source": [
    "# This code checks the location of the working directory, affects the definition of dataFilePath as defined below for the import of the spandeck file\n",
    "# I have left the code commented since it only needs to be used for checking the file path before starting the rest of the project\n",
    "# import os\n",
    "# os.getcwd()"
   ]
  },
  {
   "cell_type": "code",
   "execution_count": 7,
   "metadata": {},
   "outputs": [],
   "source": [
    "from pathlib import Path\n",
    "import pandas as pd\n",
    "\n",
    "# DatafilePath is a string that contains the relative file path to the data file\n",
    "dataFilePath = Path(\"..\", \"data\", \"spandeck.txt\")\n",
    "\n",
    "# Import the spandeck case as text\n",
    "spandeck = open(dataFilePath, \"r\", encoding= \"utf8\")\n",
    "\n",
    "# .readlines() returns a stream (ie. the text is not saved in memory), hence we save it as a string called \"text\" which is saved in memory\n",
    "text = spandeck.readlines()"
   ]
  },
  {
   "cell_type": "code",
   "execution_count": 8,
   "metadata": {},
   "outputs": [],
   "source": [
    "# This code loads the blackstone NLP model, and saves it into the object called NLP\n",
    "import blackstone\n",
    "import en_blackstone_proto\n",
    "nlp = en_blackstone_proto.load()"
   ]
  },
  {
   "source": [
    "## 2. Text pre-processing\n",
    "\n",
    "As the text as extracted directly from the pdf file is not \"clean\" (ie. contains formatting and other characters that do not carry any semantic meaning), we will first need to pre-process the text to remove these unessential characters.\n",
    "\n",
    "There are various packages that come with pre-written functions that can be used for general situations, but here the text only contains line and tab breaks, and hence I have decided to define my own function that removes such text formatting."
   ],
   "cell_type": "markdown",
   "metadata": {}
  },
  {
   "source": [
    "### What is a function?\n",
    "\n",
    "A function in programming is similar to mathematical functions; there is an input and an output, and a bunch of pre-defined steps are applied onto the input.\n",
    "\n",
    "Apart from pre-defined functions (such as the \"print\" function), we can also define our own functions. We do so for our convenience, because we can reuse the same lines of code defined within the function later on just by calling the function name."
   ],
   "cell_type": "markdown",
   "metadata": {}
  },
  {
   "source": [
    "### Function for text pre-processing\n",
    "\n",
    "This function replaces tabs and new lines and appends the sentences together to form a single string."
   ],
   "cell_type": "markdown",
   "metadata": {}
  },
  {
   "cell_type": "code",
   "execution_count": 9,
   "metadata": {},
   "outputs": [],
   "source": [
    "# Text preprocessing\n",
    "def text_preprocessing(text):\n",
    "    \"\"\" Accepts a list of unprocessed strings, returns a list of strings without string and tab breaks and empty strings \"\"\"\n",
    "    \n",
    "    # This creates an empty list\n",
    "    processed_text = []\n",
    "\n",
    "    # This is a for loop; it iterates through the strings in the text, and performs some operations on each string. Hence the name for loop: \"For\" each string, apply X operations on the string.\n",
    "\n",
    "    # In this case, for each string, we replace new lines (\"\\n\") with an empty string, and replace tabs (\"\\t\") with a space.\n",
    "    for string in text:\n",
    "        string = string.replace(\"\\n\", \"\")\n",
    "        string = string.replace(\"\\t\", \" \")\n",
    "        processed_text.append(string)\n",
    "    \n",
    "    # This is a list comprehension; a more concise way of expressing a for loop.\n",
    "    # We iterate through each string in the processed text, and we only retain strings which are not empty strings (since empty strings are meaningless in this context)\n",
    "\n",
    "    processed_text = [string for string in processed_text if string != \"\"]\n",
    "\n",
    "    return processed_text\n",
    "\n",
    "# Run the function on the string\n",
    "text = text_preprocessing(text)"
   ]
  },
  {
   "source": [
    "### Function to split the text into individual strings\n",
    "\n",
    "Since blackstone predicts at a sentence level (ie. we cannot use the entire case as one string as an input to blackstone), this function splits the text into individual strings using blackstone's sentence boundary detector.\n",
    "\n",
    "The sentence boundary detector is a function within blackstone that detects individual sentences."
   ],
   "cell_type": "markdown",
   "metadata": {}
  },
  {
   "cell_type": "code",
   "execution_count": 10,
   "metadata": {},
   "outputs": [],
   "source": [
    "def legal_cats(sentences):\n",
    "    \"\"\"\n",
    "    Function to identify the highest scoring category prediction generated by the text categoriser. \n",
    "\n",
    "    Arguments: \n",
    "    a list of strings\n",
    "    \n",
    "    converts to spacy generator object, splits into sentences using spacy's sentence detector\n",
    "\n",
    "    returns a tuple of: \n",
    "    a list of the split sentences,\n",
    "    a list of the max cat and max score for each doc in tuples\n",
    "    \"\"\"\n",
    "    doc_sentences = []\n",
    "\n",
    "    # This passes the input string through the nlp model, and converts it to doc object\n",
    "    # This doc object contains both the original text, and tags the sentences with certain attributes, such as the sentence boundary detector.\n",
    "    # A doc corresponds to a string.\n",
    "\n",
    "    docs = nlp.pipe(sentences, disable = [\"tagger\", \"ner\", \"textcat\"])\n",
    "\n",
    "    # We loop through each document in the documents, and loop again through each sentence in the document, and append the sentence to doc_sentences, an empty list\n",
    "    for doc in docs:\n",
    "        for sentence in doc.sents:\n",
    "            doc_sentences.append(sentence.text)\n",
    "    \n",
    "    # We can now categorise each sentence into one of the five abovementioned categories.\n",
    "\n",
    "    # We convert the newly detected sentences into a doc object again, as it contains the categoriser attribute that we can use to predict\n",
    "    \n",
    "    docs = nlp.pipe(doc_sentences, disable = [\"tagger\", \"parser\", \"ner\"])\n",
    "\n",
    "    # We create a list to store the corresponding category and the score (ie the likelihood of the category that blackstone predicts the sentence to be)\n",
    "    # This index of the list corresponds to doc_sentences (ie. the first item in cats_list contains the predicted category and score for the first sentence in doc_sentences, the second item in cats_list contains the predicted category and score for the second sentence, so on and so forth)\n",
    "\n",
    "    cats_list = []\n",
    "\n",
    "    # We loop through the doc (sentence) in the documents, and return the highest probability category and its score for each sentence\n",
    "\n",
    "    # We have to select the highest scoring category because blackstone provides the probability of all five categories which the sentence can fall under.\n",
    "\n",
    "    # We are only concerned with blackstone's best prediction, and hence we only save the highest scoring category.\n",
    "    for doc in docs:\n",
    "        cats = doc.cats\n",
    "        max_score = max(cats.values()) \n",
    "        max_cats = [k for k, v in cats.items() if v == max_score]\n",
    "        max_cat = max_cats[0]\n",
    "        cats_list.append((max_cat, max_score))\n",
    "\n",
    "    return doc_sentences, cats_list"
   ]
  },
  {
   "source": [
    "## 3. Predicting on the processed text\n",
    "\n",
    "With the above function defined, we can now finally use blackstone to predict the categories of the text. This just involves calling the function with the cleaned text as the argument.\n",
    "\n",
    "The variable \"cats\" is a tuple (ie. two values inside parentheses). Each pair corresponds to each sentence in the processed text, as the function \"legal_cats\" assigns the top scoring category to each sentence. The first element of the pair contains a list of all the sentences in the text. \n",
    "\n",
    "The second element of the pair contains another pair: This nested pair contains the name of the category that the sentence is most likely to be classified, as well as the probability that the sentence falls under this category."
   ],
   "cell_type": "markdown",
   "metadata": {}
  },
  {
   "cell_type": "code",
   "execution_count": 14,
   "metadata": {
    "tags": [
     "outputPrepend"
    ]
   },
   "outputs": [
    {
     "output_type": "stream",
     "name": "stdout",
     "text": [
      "to the appellant to do it properly and professionally.', '93     Finally, the appellant pointed out that cl 32.8 of the Contract made it clear that the appellant had no remedy vis-à-vis the Employer for “any damages, whether by way of interest or otherwise, for any failure or delay by the [SO] in certifying any payment due or payable to the Contractor”.', 'Since cl 32.8 had severely limited any recourse by the appellant to the Employer for damages arising from any failure or delay by the respondent in certifying any payment due or payable to the contractor, it was argued that the decision of the English Court of Appeal in Pacific Associates Inc v Baxter [1990] 1 QB 993 (“Pacific Associates”), which denied a duty of care in similar circumstances, was distinguishable as in that case there was no such restriction of the contractor’s right of recourse to the employer.', '(2)   The respondent’s arguments', '94     The respondent argued that the case was on all fours with Pacific Associates if the court took into account the existence of the appellant’s right to arbitration under cl 34 (see [5] above).', 'It submitted that cl 34 gave extensive rights to the appellant to submit disputes for arbitration including submitting a claim against the Employer for any under-certification by the respondent.', 'As such, the respondent contended that, on the facts of the case, it could not be said that the SO had assumed any responsibility for the appellant for the consequences of any under-certification or that the appellant had relied solely on the respondent’s certification to recover what was due to it for work done.', '95     In relation to the appellant’s interpretation of cl 2.8, the respondent submitted that it was wholly misconceived and that it actually meant the opposite.', 'It was argued that cl 2.8 referred not only to the absence of a duty to exercise the SO’s powers, but also of a duty not to exercise them, which meant that the SO could exercise them, if he wished, which he had done.', 'Finally, as regards cl 32.8, the respondent submitted that while cl 32.8 precluded the appellant from claiming against the Employer damages for the failure or delay of the respondent in certification, the appellant had the right to claim the amounts under-certified and interest thereon by commencing arbitration proceedings against the Employer.', 'This was clear from a perusal of cll 32 and 34.', '96     Ultimately, the respondent submitted that, given the carefully drafted and detailed provisions governing the rights and liabilities of the Employer and the appellant which took into account the role of the respondent, it would be wrong for the court to impose a duty of care on it vis-à-vis the appellant.', 'If the appellant had wanted the respondent to assume some liability to it in discharging the respondent’s duties to the Employer, it could have proposed a direct contractual arrangement with the respondent or introduce the respondent as a further party to the Contract but it chose not to do so.', 'Alternatively, the appellant could have decided not to tender for the work since it knew or must have known about the contractual structure before it even submitted its bid.', 'Our decision', '97     Adopting an incremental approach with respect to the requirement of proximity, we found the salient facts in Pacific Associates to be materially the same as those in the present case.', 'The claimant in Pacific Associates was a contractor engaged in dredging work under the supervision of the defendant engineer who was retained by the employer.', 'The claimant’s contract with the employer contained clauses providing that the engineer would not be personally liable for acts under the contract and providing for the arbitration of disputes between the contractor and the employer.', 'The contractor claimed that the geological information in the tender document issued by the engineer had under-estimated the amount of hard materials to be dredged and that the engineer had acted negligently in rejecting the contractor’s claims for extra payment for removal of unforeseen hard materials.', 'The contractor recovered some of its alleged losses from the employer following an arbitration settlement and then sought to recover the balance through a negligence action against the employer.', '98     The Court of Appeal held (at 1032) that it would not be reasonable to impose a Hedley Byrne ([44] supra) duty on the engineer because it “would cut across and be inconsistent with the structure of relationships created by the contracts, into which the parties had entered”.', '(1)   Reasonable reliance and assumption of responsibility', '99     The court in Pacific Associates also held that the engineer did not owe a duty of care to a contractor who had suffered economic loss as a result of his decisions as the contractor was safeguarded by the terms of its contract with the employer.', 'Purchas LJ considered that the courts should be slow to superimpose an added duty of care in excess of the rights the contractor was content to acquire against the owner in those cases where the parties came under a contractual framework which provided for compensation in the event of the failure of one of the parties involved.', 'On the question of reliance, Purchas LJ held that if the contractor required extra-contractual protection for the defaults of the engineer, it was open to the contractor to stipulate for it when contracting.', 'By accepting the invitation to tender the contractor must be taken to accept the role to be played by the engineer as defined in the contract.', 'As such, the court could not accept that the engineer had held himself out as accepting a duty of care outside the contractual framework, or that the contractor had relied on such an assumption of responsibility.', 'Purchas LJ, however, noted that the position might have been different if the arbitration clause had not been included in that contract.', '100    Ralph Gibson LJ gave a similar analysis.', 'In his judgment, he noted that there was no express or implied assumption of responsibility, emphasising that there was no approach or request by the contractor inviting the provision of a service or advice or information directly to the engineer.', 'The engineer’s relationship with the contractor arose from the engineer’s contract of employment with the owner.', 'It was to the owner that the engineer owed his contractual duty to use proper care.', 'Since the contract provided for correction by arbitration, the engineer was not employed to exercise due care in the interest of the contractor, so he could not be regarded as assuming responsibility to the contractor.', 'The duty to act fairly and impartially was owed only to the employer.', 'Essentially, Ralph Gibson LJ denied the general duty on the grounds of both foreseeability (which he evidently regarded as a legal, as opposed to factual, requirement) and proximity, in view of the absence of voluntary assumption of responsibility.', '101    On the other hand, Russell LJ, while reaching the same result, regarded the policy test as pivotal in the appeal.', 'He thought that the engineer, in preparing tenders and contract documents, held himself out as an expert on whom the contractor was entitled to rely.', 'However, on the policy test, he held that the contractor had freely entered into the contract and knew that a claim against the engineer must be ex-contractual.', 'The contractor had its rights adequately protected by the contract with the owner and, had it thought the protection inadequate, it was at liberty to insist on a tri-partite contract.', 'The parties having sought to regulate their relationships by contract, the law should be very cautious before grafting onto the contractual relationship what might be terms of a parasitic duty unnecessary for the parties’ protection.', 'In Russell LJ’s view, while the requirement of foreseeability and proximity might be satisfied, it was not just and reasonable that there should be imposed on the engineer a duty which the contractor chose not to make a contractual one because, inter alia, the arbitration clause provided an adequate remedy in the event of under-certification.', '102    The core of the judgments, as Ian Duncan Wallace noted in “Charter for the Construction Professional?” (', '1990) 6 Const LJ 207 at para 13, lies in the view that, merely by virtue of the professional entering into a contract of employment under which he is to perform the various duties required by his client’s contract with a contractor, and by so acting, it cannot be inferred as a fact that the professional (an engineer in Pacific Associates) has voluntarily assumed responsibility to the contractor for a careful discharge of his duties.', 'As Ralph Gibson LJ’s judgment shows, only in circumstances in which the contractor makes some positive approach to the engineer for some service, advice, etc, followed by some positive statement or action on the part of the engineer on which it would be reasonable for the contractor to rely without further checking, may a voluntary assumption of responsibility be inferable.', '(2)   Other jurisdictions following Pacific Associates', '103     Pacific Associates has been followed in the Australian case of John Holland Construction and Engineering Pty Ltd v Majorca Projects Pty Ltd (2000) 16 Const LJ 114 (“John Holland”).', 'Byrne J thought that the lowest common denominator in Pacific Associates, which prevented the court from finding a duty, was the arbitration clause.', 'Regarding the duties of a certifier generally, Byrne J had the following to say (at 125–126):', 'To my mind it is reasonably foreseeable that the decisions of a certifying architect might cause loss to a contractor in a conventional building project if made negligently.', 'Whatever that loss might be will depend upon the nature of the decision in question; it is in any event pure economic loss.', 'This foreseeability is not removed by a right to review the decision by arbitration.', 'Insofar as an entitlement to payment is concerned, a contractor who is successful upon arbitration must necessarily incur the cost of that arbitration and may suffer a deferment of payment, perhaps without a right to interest pending payment ... Nor am I troubled by either of the examples of policy consideration referred to in Bryan v. Moloney [sic] (1995) 182 C.L.R. at 618–9 ... The Builder in this case is clearly an identifiable member of the limited class of two persons who must have been in the contemplation of the Architect as being directly affected by its decisions.', 'It is not an affront to the standards expected of a professional person that he or she should exercise the onerous responsibilities of certifier with due care and without partiality or unfairness.', 'I suspect that the community, and particularly those concerned in the building industry, would expect no less.', 'The solution to the present problem must be found in the answer to the questions whether, in the contractual framework in which the parties to this project operated, it is established that the Builder relied on or depended upon the careful and impartial performance by the Architect of its certifying functions as here alleged and whether the Architect, for its part, assumed legal responsibility to the Contractor so to perform them.', '104    Byrne J went on to find (at 126), on the basis of the contractual background, that it was “not appropriate ... to seek to engraft upon the contractual background a tortious obligation”.', 'However, Byrne J could see no policy reasons for not imposing a duty in appropriate circumstances and accordingly accepted that in principle a certifier had a duty to make “decisions which are professional, careful and even-handed, not in the interests of any one party” (at 126).', 'Further, Byrne J expressed the view that the right to review an architect’s decision by arbitration did not remove the foreseeability of economic loss being caused by a certifier’s negligence.', 'Seen in this light, the reasoning in John Holland appears to be tilted towards the policy aspect of the reasoning in Pacific Associates, as opposed to subsuming the ability of the contractor to seek recourse in arbitration under the rubric of “proximity”.', '105     Pacific Associates has also been followed in the Hong Kong decision of Leon Engineering & Construction Co Ltd v Ka Duk Investment Co Ltd (1989) 47 BLR 139, where the court refused to impose a duty on the professional on the ground that there was an adequate machinery under the contract for the contractor to pursue grievances, including those relating to under-certification, against the employer.', 'At the close of the judgment, Bokhary J said (at 151):', 'The principle which I extract from … Pacific Associates ... is one which I would state in these terms: Where, first, there is adequate machinery under the contract between the employer and a contractor to enforce the contractor’s rights thereunder and, secondly, there is no good reason at tender stage to suppose that such rights and machinery would not together provide the contractor with an adequate remedy, then, in general, a certifying architect or engineer does not owe to the contractor a duty in tort coterminous with the obligation in contract owed to the contractor by the employer.', '106    Elsewhere, the effect of Pacific Associates has been distinguished, primarily on the basis that what the professional says or does before a contract is entered into is entirely different from what he does when he makes an interim certification of payment.', 'However, it has never been expressly overruled and the legal principles which it stands for (as discussed above) remain good law, as far as we are aware, in all Commonwealth jurisdictions.', '107    The Canadian Supreme Court in Edgeworth Constructions Ltd v ND Lea & Associates Ltd (1993) 107 DLR (4th) 169 has held that there might be situations where a negligent statement by the professional in preparing the tender documents would lead to liability under Hedley Byrne ([44] supra) but, in the absence of such a statement to the contractor, it seemed unlikely that a court would find a duty of care based on the mere conduct of the professional.', 'Similarly, in J Jarvis and Sons Ltd v Castle Wharf Developments Ltd [2001] EWCA Civ 19, the English Court of Appeal distinguished Pacific Associates and held that the professional agent of an employer could be liable to a contractor for negligent misstatements made by that agent to the contractor with the aim of inducing the contractor to tender, provided that the contractor placed reliance on those statements.', 'The question of whether a duty of care had arisen was dependent on the given facts and, in particular, on what had been said to the contractor.', '(3)   Application to the present case', '108    Applying the findings in Pacific Associates in relation to proximity to the present case, we were of the opinion that the requirement of proximity was not satisfied.', 'The trial judge at [79] of the Judgment stated that there was no assumption of direct responsibility by the respondent to the appellant, but did not explain why this was so.', 'In view of the presence of the arbitration clause in the Contract, ie, cl 34 (see [5] above) in the present case, it was not possible for this court to depart from the reasoning in Pacific Associates and hold that the respondent had a duty of care to the appellant to certify the payments for work done correctly.', 'For this reason, we held that there was no legal proximity for a duty of care to arise.', '109    With respect to the arguments based on cl 32.8, we were of the view that although the appellant had no remedy vis-à-vis the Employer for “any damages, whether by way of interest or otherwise, for any failure or delay by the [SO] in certifying any payment due or payable to the Contractor”, thereby precluding the appellant from claiming damages against the Employer for failure or for delay of the respondent in certification, the appellant was always free to claim the amounts under-certified and interest thereon by arbitration proceedings against the Employer.', 'This was clear from a perusal of cll 32 and 34.', 'In addition, cl 22 specifically allowed the contractor to claim “Loss and Expense” against the Employer under many stated grounds.', 'Hence, Pacific Associates was not distinguishable because of cl 32.8.', '110    In relation to the effect of cl 2.8, we accepted the respondent’s argument as set out in [95] above.', 'Policy considerations', '111    In reaching our decision, we had also considered the parties’ arguments on whether if there had been proximity, there would have been any policy considerations that would have persuaded us to deny any remedy to the appellant.', 'The parties’ arguments', '112    In this regard, the appellant first submitted that given the recognised and accepted position of the certifier having to be independent and impartial to both the employer and the contractor, it was logical that a duty of care be imposed on the certifier to ensure that he would discharge his duties professionally to all parties who might be affected by his certification.', 'This would also help to improve the overall standards in the industry.', 'To this submission, the respondent argued that it was merely speculative.', '113    Secondly, the appellant stated that the trial judge’s concern about opening the floodgates must be considered in its appropriate context.', 'In particular, while there might be additional claims made (such as from sub-contractors), it was within the power of the courts to control the risk by recognising the appellant’s claim and denying the other claims.', 'In this case, the respondent’s duties, certification and otherwise, were aimed at the party in direct contract with the Employer, ie, the main contractor, and there was no risk of indeterminate liability.', 'The respondent’s argument, in response, was that it would not be just or reasonable to impose a duty of care on the SO in view of the contractual framework to which the appellant had agreed.', 'Our decision', '114    On the facts of the present case, the same reasons above articulated by Russell LJ in Pacific Associates can also be characterised as policy considerations under the second stage of the test in Anns.', 'For the reasons considered above, viz, a duty of care should not be superimposed on a contractual framework, we considered that there were cogent policy reasons why, assuming that proximity was found, a duty of care should nonetheless not be imposed on the respondent.', 'Conclusion', '115    To recapitulate: A single test to determine the existence of a duty of care should be applied regardless of the nature of the damage caused (ie, pure economic loss or physical damage).', 'It could be that a more restricted approach is preferable for cases of pure economic loss but this is to be done within the confines of a single test.', 'This test is a two-stage test, comprising of, first, proximity and, second, policy considerations.', 'These two stages are to be approached with reference to the facts of decided cases although the absence of such cases is not an absolute bar against a finding of duty.', 'There is, of course, the threshold issue of factual foreseeability but since this is likely to be fulfilled in most cases, we do not see the need to include this as part of the legal test for a duty of care.', '116    In the circumstances, applying the two-stage test, we found that there was no duty of care as the appellant had contended for.', 'As a result, we did not have to consider the additional issues of breach, causation and remoteness which had been canvassed before us.', 'The appeal was dismissed with costs and with the usual consequential orders.', 'Reported by Goh Yihan.', 'BACK TO TOP', 'Copyright © Singapore Academy of Law.']\n"
     ]
    }
   ],
   "source": [
    "cats = legal_cats(text)\n",
    "\n",
    "print(cats[0])"
   ]
  },
  {
   "cell_type": "code",
   "execution_count": 18,
   "metadata": {
    "tags": [
     "outputPrepend"
    ]
   },
   "outputs": [
    {
     "output_type": "stream",
     "name": "stdout",
     "text": [
      ", ('LEGAL_TEST', 0.6143603324890137), ('UNCAT', 0.9992535710334778), ('LEGAL_TEST', 0.9996281862258911), ('LEGAL_TEST', 0.9997114539146423), ('UNCAT', 0.9999997615814209), ('LEGAL_TEST', 0.5789346098899841), ('LEGAL_TEST', 0.9711172580718994), ('CONCLUSION', 0.4911336600780487), ('LEGAL_TEST', 0.9852685332298279), ('CONCLUSION', 0.9998904466629028), ('AXIOM', 0.826408326625824), ('AXIOM', 0.590133547782898), ('AXIOM', 0.9500483870506287), ('LEGAL_TEST', 0.9972524046897888), ('UNCAT', 0.9969598054885864), ('AXIOM', 0.8276323080062866), ('LEGAL_TEST', 0.4857099950313568), ('AXIOM', 0.6538439989089966), ('AXIOM', 0.9463197588920593), ('AXIOM', 0.9123291969299316), ('AXIOM', 0.87876296043396), ('AXIOM', 0.7220638394355774), ('UNCAT', 0.9539644122123718), ('LEGAL_TEST', 0.8342021703720093), ('AXIOM', 0.7855057716369629), ('LEGAL_TEST', 0.9574013352394104), ('CONCLUSION', 0.9866430759429932), ('LEGAL_TEST', 0.9742777943611145), ('CONCLUSION', 0.997811496257782), ('CONCLUSION', 0.5435147881507874), ('AXIOM', 0.3530876934528351), ('AXIOM', 0.5224049091339111), ('LEGAL_TEST', 0.5131157636642456), ('LEGAL_TEST', 0.8967104554176331), ('AXIOM', 0.5745428204536438), ('AXIOM', 0.9693735837936401), ('AXIOM', 0.6020175218582153), ('LEGAL_TEST', 0.610338568687439), ('LEGAL_TEST', 0.5059202313423157), ('CONCLUSION', 0.999983549118042), ('LEGAL_TEST', 0.6047780513763428), ('CONCLUSION', 0.9940989017486572), ('CONCLUSION', 0.5814367532730103), ('UNCAT', 0.9603362083435059), ('UNCAT', 1.0), ('UNCAT', 0.9990293979644775), ('LEGAL_TEST', 0.3633989989757538), ('UNCAT', 1.0), ('UNCAT', 0.9948881268501282), ('UNCAT', 1.0), ('UNCAT', 0.9855108261108398), ('AXIOM', 0.5450274348258972), ('UNCAT', 0.9997953772544861), ('UNCAT', 1.0), ('UNCAT', 0.65208500623703), ('UNCAT', 0.8416752815246582), ('UNCAT', 0.999974250793457), ('UNCAT', 0.999987006187439), ('UNCAT', 1.0), ('UNCAT', 0.9995830655097961), ('UNCAT', 0.9988546371459961), ('UNCAT', 0.999880313873291), ('UNCAT', 0.9997206330299377), ('UNCAT', 0.9824031591415405), ('UNCAT', 0.9454850554466248), ('UNCAT', 0.9982616305351257), ('UNCAT', 0.9998940229415894), ('UNCAT', 0.9994316697120667), ('UNCAT', 0.8839214444160461), ('UNCAT', 0.8567397594451904), ('UNCAT', 0.8177222609519958), ('UNCAT', 0.988534152507782), ('UNCAT', 0.9911490678787231), ('UNCAT', 0.9999996423721313), ('UNCAT', 0.9746004343032837), ('UNCAT', 1.0), ('UNCAT', 0.9999985694885254), ('UNCAT', 0.9400755167007446), ('UNCAT', 0.7566447854042053), ('UNCAT', 0.9999978542327881), ('UNCAT', 0.8577573895454407), ('UNCAT', 0.9999996423721313), ('UNCAT', 0.9999194145202637), ('UNCAT', 0.9970723390579224), ('UNCAT', 0.9942189455032349), ('UNCAT', 0.9998922348022461), ('UNCAT', 0.969465434551239), ('UNCAT', 0.960917055606842), ('UNCAT', 0.9546870589256287), ('UNCAT', 0.9975590705871582), ('UNCAT', 0.9999985694885254), ('UNCAT', 0.9998511075973511), ('UNCAT', 0.9998263716697693), ('UNCAT', 0.9987174272537231), ('UNCAT', 0.99996018409729), ('UNCAT', 1.0), ('UNCAT', 0.9845400452613831), ('UNCAT', 0.9973491430282593), ('UNCAT', 0.9873130917549133), ('UNCAT', 0.9885593056678772), ('UNCAT', 0.9898591637611389), ('UNCAT', 0.9918027520179749), ('UNCAT', 0.9711394906044006), ('UNCAT', 0.4007899761199951), ('UNCAT', 0.998748779296875), ('UNCAT', 0.9999934434890747), ('UNCAT', 0.9938061237335205), ('UNCAT', 1.0), ('UNCAT', 0.999998927116394), ('UNCAT', 0.9955012202262878), ('UNCAT', 0.9222788214683533), ('UNCAT', 0.9965513944625854), ('UNCAT', 0.9910637140274048), ('UNCAT', 0.958877444267273), ('UNCAT', 0.9896165132522583), ('UNCAT', 0.8751325011253357), ('UNCAT', 0.9883478283882141), ('UNCAT', 0.8626420497894287), ('UNCAT', 0.9954133629798889), ('UNCAT', 0.9797185659408569), ('UNCAT', 0.9974160194396973), ('UNCAT', 0.9934166669845581), ('UNCAT', 0.9969162940979004), ('UNCAT', 0.9232392311096191), ('UNCAT', 0.9874805808067322), ('UNCAT', 0.9693082571029663), ('UNCAT', 0.9881096482276917), ('UNCAT', 0.9980517625808716), ('UNCAT', 0.9997959733009338), ('UNCAT', 0.9908348321914673), ('UNCAT', 0.9951252341270447), ('UNCAT', 0.9962881803512573), ('UNCAT', 0.9937042593955994), ('UNCAT', 0.9925515651702881), ('UNCAT', 0.9912516474723816), ('UNCAT', 0.9999837875366211), ('UNCAT', 0.9989749193191528), ('UNCAT', 0.8036326169967651), ('UNCAT', 0.9998563528060913), ('UNCAT', 0.9895147085189819), ('UNCAT', 0.9954829216003418), ('UNCAT', 0.9842234253883362), ('UNCAT', 0.9942434430122375), ('UNCAT', 0.9947376847267151), ('UNCAT', 0.9961464405059814), ('UNCAT', 0.7866584062576294), ('UNCAT', 0.8694709539413452), ('UNCAT', 0.8587318658828735), ('UNCAT', 0.9993147850036621), ('UNCAT', 0.9956314563751221), ('UNCAT', 0.9912450909614563), ('UNCAT', 0.9999243021011353), ('UNCAT', 0.9661588072776794), ('CONCLUSION', 0.5536928176879883), ('UNCAT', 0.9817602038383484), ('UNCAT', 0.8404289484024048), ('UNCAT', 0.9703046679496765), ('UNCAT', 0.9821721911430359), ('UNCAT', 0.9663944244384766), ('LEGAL_TEST', 0.5673205256462097), ('UNCAT', 0.9218231439590454), ('UNCAT', 0.8571256399154663), ('LEGAL_TEST', 0.9989355206489563), ('UNCAT', 1.0), ('LEGAL_TEST', 0.5277185440063477), ('UNCAT', 0.879808247089386), ('UNCAT', 0.9101822972297668), ('UNCAT', 0.9791768193244934), ('UNCAT', 0.9916268587112427), ('UNCAT', 0.9555458426475525), ('UNCAT', 0.8275766372680664), ('UNCAT', 0.982295036315918), ('UNCAT', 0.8861309885978699), ('AXIOM', 0.3554011881351471), ('AXIOM', 0.4686695635318756), ('UNCAT', 1.0), ('UNCAT', 1.0), ('AXIOM', 0.8073294162750244), ('AXIOM', 0.8854953050613403), ('UNCAT', 0.9785908460617065), ('AXIOM', 0.8881909251213074), ('UNCAT', 0.807005763053894), ('AXIOM', 0.45602795481681824), ('AXIOM', 0.8091115355491638), ('LEGAL_TEST', 0.6608650088310242), ('UNCAT', 0.9897578954696655), ('UNCAT', 0.997108519077301), ('AXIOM', 0.4697803258895874), ('UNCAT', 0.9998430013656616), ('UNCAT', 1.0), ('AXIOM', 0.5159453749656677), ('AXIOM', 0.8409124612808228), ('UNCAT', 0.891198456287384), ('UNCAT', 0.5542014837265015), ('UNCAT', 0.9935809373855591), ('UNCAT', 0.9697791337966919), ('UNCAT', 0.9998036026954651), ('UNCAT', 0.6984898447990417), ('UNCAT', 0.9415753483772278), ('CONCLUSION', 0.6945828199386597), ('LEGAL_TEST', 0.7322322130203247), ('UNCAT', 0.9971988201141357), ('AXIOM', 0.8337081670761108), ('AXIOM', 0.7277661561965942), ('UNCAT', 1.0), ('AXIOM', 0.9567669034004211), ('UNCAT', 0.9970967769622803), ('UNCAT', 0.9901841282844543), ('UNCAT', 1.0), ('UNCAT', 0.9999972581863403), ('AXIOM', 0.8107056617736816), ('UNCAT', 0.9999819993972778), ('UNCAT', 0.525822639465332), ('UNCAT', 1.0), ('UNCAT', 0.9993897676467896), ('UNCAT', 0.9988191723823547), ('UNCAT', 0.7758580446243286), ('LEGAL_TEST', 0.9854281544685364), ('LEGAL_TEST', 0.897671103477478), ('UNCAT', 0.9811644554138184), ('UNCAT', 0.723818302154541), ('AXIOM', 0.7396181225776672), ('UNCAT', 0.9631136059761047), ('UNCAT', 1.0), ('CONCLUSION', 0.9900261163711548), ('UNCAT', 0.998887836933136), ('UNCAT', 0.9984259605407715), ('LEGAL_TEST', 0.9994927644729614), ('LEGAL_TEST', 0.4823377728462219), ('CONCLUSION', 0.8440032005310059), ('UNCAT', 0.9140049815177917), ('ISSUE', 0.7817223072052002), ('UNCAT', 0.8595817685127258), ('UNCAT', 0.4336465001106262), ('LEGAL_TEST', 0.6922250390052795), ('UNCAT', 0.9064294695854187), ('LEGAL_TEST', 0.4910665452480316), ('UNCAT', 0.5028685927391052), ('ISSUE', 0.36522799730300903), ('CONCLUSION', 0.4692365825176239), ('CONCLUSION', 0.7560919523239136), ('UNCAT', 0.9996248483657837), ('LEGAL_TEST', 0.9643646478652954), ('UNCAT', 0.7137218713760376), ('LEGAL_TEST', 0.4660290777683258), ('UNCAT', 0.5602955222129822), ('UNCAT', 0.9999992847442627), ('CONCLUSION', 0.9032623171806335), ('UNCAT', 0.9724521040916443), ('UNCAT', 0.911760151386261), ('AXIOM', 0.6150442957878113), ('UNCAT', 0.7934222221374512), ('UNCAT', 0.9467385411262512), ('CONCLUSION', 0.5561708211898804), ('UNCAT', 0.9854407906532288), ('AXIOM', 0.691376805305481), ('UNCAT', 1.0), ('UNCAT', 0.9921045303344727), ('AXIOM', 0.6758090257644653), ('UNCAT', 0.9816179871559143), ('UNCAT', 0.9971400499343872), ('UNCAT', 0.9994377493858337), ('CONCLUSION', 0.39704105257987976), ('UNCAT', 0.6525457501411438), ('CONCLUSION', 0.6044872999191284), ('LEGAL_TEST', 0.9997918009757996), ('UNCAT', 0.75278240442276), ('CONCLUSION', 0.3575112223625183), ('UNCAT', 0.9428449273109436), ('LEGAL_TEST', 0.9426820278167725), ('UNCAT', 0.687512993812561), ('LEGAL_TEST', 0.969597339630127), ('UNCAT', 0.9999977350234985), ('UNCAT', 0.75895756483078), ('LEGAL_TEST', 0.9978214502334595), ('LEGAL_TEST', 0.9052515029907227), ('UNCAT', 0.9400325417518616), ('UNCAT', 0.9623502492904663), ('LEGAL_TEST', 0.819110631942749), ('LEGAL_TEST', 0.5507602691650391), ('UNCAT', 0.6004683971405029), ('UNCAT', 0.9999312162399292), ('LEGAL_TEST', 0.39231592416763306), ('UNCAT', 1.0), ('AXIOM', 0.6299682259559631), ('UNCAT', 0.6182738542556763), ('AXIOM', 0.5228972434997559), ('UNCAT', 0.8012694716453552), ('LEGAL_TEST', 0.989429771900177), ('AXIOM', 0.5309965014457703), ('LEGAL_TEST', 0.8469401597976685), ('UNCAT', 0.9258607029914856), ('AXIOM', 0.7087745070457458), ('UNCAT', 0.5689142942428589), ('UNCAT', 0.9839275479316711), ('AXIOM', 0.5164687037467957), ('UNCAT', 0.7185354232788086), ('UNCAT', 1.0), ('UNCAT', 0.5217414498329163), ('UNCAT', 0.999481737613678), ('AXIOM', 0.5599274039268494), ('UNCAT', 0.8852664828300476), ('UNCAT', 0.7833601236343384), ('CONCLUSION', 0.548877477645874), ('LEGAL_TEST', 0.49749332666397095), ('UNCAT', 0.9962357878684998), ('UNCAT', 0.4146801233291626), ('CONCLUSION', 0.5825144648551941), ('UNCAT', 1.0), ('UNCAT', 0.6639278531074524), ('CONCLUSION', 0.5558726191520691), ('LEGAL_TEST', 0.6270908117294312), ('AXIOM', 0.4779622256755829), ('LEGAL_TEST', 0.7479972243309021), ('LEGAL_TEST', 0.9620099067687988), ('LEGAL_TEST', 0.9752886891365051), ('UNCAT', 0.9986178874969482), ('LEGAL_TEST', 0.5237588882446289), ('AXIOM', 0.8276424407958984), ('UNCAT', 0.8821980953216553), ('CONCLUSION', 0.78724205493927), ('UNCAT', 0.9209476113319397), ('UNCAT', 0.8719800710678101), ('UNCAT', 0.390121728181839), ('UNCAT', 0.7699176669120789), ('UNCAT', 0.6933614611625671), ('UNCAT', 1.0), ('UNCAT', 0.9999994039535522), ('UNCAT', 0.9304702281951904), ('UNCAT', 0.9998397827148438), ('UNCAT', 0.9999984502792358), ('AXIOM', 0.3537851572036743), ('UNCAT', 0.6580819487571716), ('UNCAT', 0.7927619814872742), ('AXIOM', 0.6790602207183838), ('UNCAT', 0.9034214615821838), ('UNCAT', 0.3221542537212372), ('UNCAT', 0.9207135438919067), ('UNCAT', 0.9325153827667236), ('UNCAT', 1.0), ('UNCAT', 0.7862569689750671), ('UNCAT', 0.952284038066864), ('UNCAT', 0.9912817478179932), ('UNCAT', 0.9849549531936646), ('UNCAT', 0.9456630349159241), ('UNCAT', 0.9922003149986267), ('UNCAT', 0.7898287177085876), ('UNCAT', 0.9991951584815979), ('UNCAT', 0.974845826625824), ('LEGAL_TEST', 0.9042050838470459), ('LEGAL_TEST', 0.9962493777275085), ('UNCAT', 0.9971008896827698), ('AXIOM', 0.42655739188194275), ('UNCAT', 0.9999489784240723), ('CONCLUSION', 0.9336323142051697), ('UNCAT', 0.999962568283081), ('AXIOM', 0.9842274785041809), ('UNCAT', 0.9999563694000244), ('UNCAT', 0.9412704706192017), ('UNCAT', 0.9623004794120789), ('AXIOM', 0.9139729142189026), ('UNCAT', 0.7692371606826782), ('UNCAT', 0.9994857311248779), ('UNCAT', 0.8930385112762451), ('UNCAT', 0.998711109161377), ('CONCLUSION', 0.6032629609107971), ('UNCAT', 0.26260244846343994), ('LEGAL_TEST', 0.9047865271568298), ('CONCLUSION', 0.7450687885284424), ('CONCLUSION', 0.8839564323425293), ('LEGAL_TEST', 0.8923052549362183), ('UNCAT', 0.36820077896118164), ('UNCAT', 0.4124295711517334), ('UNCAT', 0.9391085505485535), ('UNCAT', 0.9830846190452576), ('LEGAL_TEST', 0.7461553812026978), ('LEGAL_TEST', 0.4655684232711792), ('LEGAL_TEST', 0.8501946330070496), ('AXIOM', 0.6388599276542664), ('UNCAT', 0.8270391821861267), ('UNCAT', 0.6972537040710449), ('LEGAL_TEST', 0.991452693939209), ('LEGAL_TEST', 0.5411348342895508), ('LEGAL_TEST', 0.4060388207435608), ('LEGAL_TEST', 0.9903958439826965), ('UNCAT', 0.8623425364494324), ('LEGAL_TEST', 0.8931717276573181), ('AXIOM', 0.9474201798439026), ('UNCAT', 0.9708690643310547), ('UNCAT', 1.0), ('LEGAL_TEST', 0.8125807046890259), ('UNCAT', 0.882569432258606), ('UNCAT', 0.9967120885848999), ('UNCAT', 0.9975958466529846), ('UNCAT', 0.9999994039535522), ('UNCAT', 0.8812227845191956), ('LEGAL_TEST', 0.5705354809761047), ('UNCAT', 0.7830355167388916), ('UNCAT', 0.5010446310043335), ('UNCAT', 0.976464033126831), ('UNCAT', 0.8051090240478516), ('UNCAT', 0.9507390260696411), ('UNCAT', 0.7991315126419067), ('UNCAT', 0.9675591588020325), ('UNCAT', 0.9941315054893494), ('UNCAT', 0.9002405405044556), ('UNCAT', 0.9999698400497437), ('UNCAT', 0.9359133243560791), ('UNCAT', 0.6934416890144348), ('UNCAT', 1.0), ('CONCLUSION', 0.8381868004798889), ('UNCAT', 0.9069989919662476), ('UNCAT', 1.0), ('CONCLUSION', 0.9858272075653076), ('UNCAT', 0.9858641028404236), ('UNCAT', 0.989617109298706), ('UNCAT', 0.8440883159637451), ('AXIOM', 0.36520758271217346), ('UNCAT', 0.9938860535621643), ('UNCAT', 0.9999990463256836), ('UNCAT', 0.8125483989715576), ('UNCAT', 0.7504607439041138), ('UNCAT', 0.7784603834152222), ('UNCAT', 1.0), ('UNCAT', 0.9977518916130066), ('UNCAT', 0.499305784702301), ('UNCAT', 0.7212789058685303), ('UNCAT', 0.753778338432312), ('UNCAT', 0.993727445602417), ('AXIOM', 0.35776060819625854), ('UNCAT', 0.9915764927864075), ('UNCAT', 0.997241735458374), ('UNCAT', 0.9856908917427063), ('UNCAT', 0.9257535934448242), ('LEGAL_TEST', 0.825819194316864), ('LEGAL_TEST', 0.6425581574440002), ('LEGAL_TEST', 0.5314769148826599), ('ISSUE', 0.29830196499824524), ('UNCAT', 0.9862492680549622), ('UNCAT', 0.7602696418762207), ('UNCAT', 0.5223091840744019), ('UNCAT', 0.5176506042480469), ('UNCAT', 0.856909990310669), ('UNCAT', 0.8775795102119446), ('LEGAL_TEST', 0.9833776950836182), ('LEGAL_TEST', 0.8832157850265503), ('LEGAL_TEST', 0.8238312602043152), ('UNCAT', 0.9325516819953918), ('CONCLUSION', 0.5457552671432495), ('LEGAL_TEST', 0.8325698375701904), ('AXIOM', 0.44853493571281433), ('UNCAT', 0.9998238682746887), ('UNCAT', 0.9984018206596375), ('UNCAT', 1.0), ('LEGAL_TEST', 0.7549228072166443), ('UNCAT', 0.7870654463768005), ('UNCAT', 0.9551215171813965), ('UNCAT', 0.9998452663421631), ('UNCAT', 0.6278910040855408), ('UNCAT', 0.8983285427093506), ('ISSUE', 0.5987372994422913), ('UNCAT', 0.9276137948036194), ('UNCAT', 0.9759876728057861), ('UNCAT', 0.9988914132118225), ('UNCAT', 0.9999591112136841), ('UNCAT', 1.0), ('UNCAT', 0.5246793031692505), ('AXIOM', 0.6217689514160156), ('LEGAL_TEST', 0.45400673151016235), ('AXIOM', 0.5099329948425293), ('UNCAT', 0.5590251088142395), ('AXIOM', 0.5215481519699097), ('UNCAT', 0.9998121857643127), ('CONCLUSION', 0.9477238655090332), ('UNCAT', 0.9999973773956299), ('CONCLUSION', 0.7671560049057007), ('UNCAT', 0.8439667820930481), ('UNCAT', 0.948062002658844), ('UNCAT', 1.0), ('LEGAL_TEST', 0.805746853351593), ('AXIOM', 0.3148050010204315), ('UNCAT', 0.9620196223258972), ('UNCAT', 0.969005823135376), ('UNCAT', 0.7882344722747803), ('LEGAL_TEST', 0.32213467359542847), ('UNCAT', 0.6732578873634338), ('UNCAT', 0.8381861448287964), ('UNCAT', 0.7962886691093445), ('AXIOM', 0.45799359679222107), ('AXIOM', 0.4841838479042053), ('UNCAT', 0.9317106008529663), ('UNCAT', 1.0), ('AXIOM', 0.3678746521472931), ('UNCAT', 0.9832628965377808), ('LEGAL_TEST', 0.8144848942756653), ('AXIOM', 0.5195296406745911), ('CONCLUSION', 0.7786315679550171), ('LEGAL_TEST', 0.6215214729309082), ('UNCAT', 0.876870334148407), ('UNCAT', 0.9590160250663757), ('LEGAL_TEST', 0.8932107090950012), ('UNCAT', 0.36527085304260254), ('UNCAT', 0.9985135197639465), ('UNCAT', 1.0), ('UNCAT', 0.6113013029098511), ('UNCAT', 1.0), ('LEGAL_TEST', 0.8993443250656128), ('UNCAT', 0.9997712969779968), ('UNCAT', 0.9198447465896606), ('UNCAT', 0.9554498791694641), ('LEGAL_TEST', 0.46517449617385864), ('UNCAT', 0.9990672469139099), ('UNCAT', 0.6744286417961121), ('UNCAT', 0.9990453124046326), ('UNCAT', 0.948435366153717), ('UNCAT', 0.9983232617378235), ('UNCAT', 0.8283267021179199), ('LEGAL_TEST', 0.3913175165653229), ('CONCLUSION', 0.702704668045044), ('UNCAT', 0.923829972743988), ('UNCAT', 0.9622790813446045), ('UNCAT', 0.997714638710022), ('UNCAT', 1.0), ('UNCAT', 1.0), ('LEGAL_TEST', 0.8790123462677002), ('UNCAT', 0.46466270089149475), ('UNCAT', 0.9821021556854248), ('UNCAT', 0.8920372724533081), ('UNCAT', 0.9735732674598694), ('UNCAT', 0.9989702701568604), ('UNCAT', 0.9954687356948853), ('UNCAT', 0.9808362722396851), ('UNCAT', 1.0), ('UNCAT', 0.9961929321289062), ('LEGAL_TEST', 0.8502589464187622), ('UNCAT', 0.972101628780365), ('UNCAT', 1.0), ('UNCAT', 1.0), ('LEGAL_TEST', 0.43251970410346985), ('UNCAT', 0.9985263347625732), ('UNCAT', 0.9999581575393677), ('UNCAT', 0.877966046333313), ('UNCAT', 0.9667216539382935), ('UNCAT', 0.9239502549171448), ('UNCAT', 0.7897161841392517), ('UNCAT', 0.7826842665672302), ('UNCAT', 0.9420499205589294), ('CONCLUSION', 0.49069857597351074), ('CONCLUSION', 0.43115895986557007), ('ISSUE', 0.9246780276298523), ('UNCAT', 0.9398918151855469), ('UNCAT', 0.9930279850959778), ('UNCAT', 0.8500588536262512), ('UNCAT', 0.9738219976425171), ('UNCAT', 0.7596997618675232), ('UNCAT', 0.927743673324585), ('UNCAT', 0.9999246597290039), ('UNCAT', 0.9797772765159607), ('UNCAT', 0.8669005036354065), ('UNCAT', 0.9563983082771301), ('UNCAT', 1.0), ('UNCAT', 0.922032356262207), ('UNCAT', 0.9966674447059631), ('UNCAT', 0.954275906085968), ('UNCAT', 0.9946587681770325), ('UNCAT', 0.8176315426826477), ('UNCAT', 0.9542049765586853), ('UNCAT', 0.9997923970222473), ('UNCAT', 0.8604663610458374), ('UNCAT', 0.7470567226409912), ('UNCAT', 0.9607470035552979), ('UNCAT', 0.8448605537414551), ('CONCLUSION', 0.634128749370575), ('UNCAT', 0.9862300157546997), ('UNCAT', 0.7492252588272095), ('UNCAT', 0.8755568861961365), ('UNCAT', 0.9988226294517517), ('UNCAT', 0.9994470477104187), ('UNCAT', 0.9472818374633789), ('UNCAT', 0.9998414516448975), ('UNCAT', 0.9635012745857239), ('LEGAL_TEST', 0.9021397829055786), ('UNCAT', 0.9752373099327087), ('LEGAL_TEST', 0.42093542218208313), ('UNCAT', 0.9654003381729126), ('UNCAT', 0.7980271577835083), ('UNCAT', 0.41573473811149597), ('UNCAT', 0.9907387495040894), ('UNCAT', 0.5585930943489075), ('UNCAT', 0.9205769300460815), ('UNCAT', 1.0), ('CONCLUSION', 0.7683338522911072), ('UNCAT', 0.9378170967102051), ('UNCAT', 0.9029792547225952), ('UNCAT', 0.9990279674530029), ('UNCAT', 0.9759816527366638), ('UNCAT', 0.943182647228241), ('UNCAT', 0.6483562588691711), ('UNCAT', 0.9821711778640747), ('UNCAT', 0.9890360236167908), ('UNCAT', 0.35950934886932373), ('UNCAT', 0.8323413133621216), ('UNCAT', 0.47830986976623535), ('UNCAT', 0.9637089967727661), ('UNCAT', 0.6489245891571045), ('UNCAT', 0.9604029655456543), ('UNCAT', 0.998187243938446), ('UNCAT', 0.6335893273353577), ('UNCAT', 0.3215797543525696), ('UNCAT', 0.9173853993415833), ('AXIOM', 0.4056362509727478), ('AXIOM', 0.6970998048782349), ('UNCAT', 0.5999304056167603), ('UNCAT', 0.9998917579650879), ('LEGAL_TEST', 0.42282846570014954), ('UNCAT', 0.9949654936790466), ('UNCAT', 0.864466667175293), ('AXIOM', 0.5335395932197571), ('UNCAT', 0.49787965416908264), ('UNCAT', 0.9999246597290039), ('UNCAT', 0.9986580610275269), ('UNCAT', 0.9995144605636597), ('UNCAT', 0.9123589992523193), ('UNCAT', 1.0), ('LEGAL_TEST', 0.328645795583725), ('UNCAT', 1.0), ('UNCAT', 0.9560776352882385), ('UNCAT', 0.9999661445617676), ('UNCAT', 0.9999853372573853), ('UNCAT', 0.8978962302207947), ('UNCAT', 0.9384748339653015), ('UNCAT', 0.9790977835655212), ('UNCAT', 0.881341278553009), ('UNCAT', 1.0), ('CONCLUSION', 0.47208166122436523), ('UNCAT', 0.8023403286933899), ('UNCAT', 1.0), ('UNCAT', 0.5821532011032104), ('LEGAL_TEST', 0.9172678589820862), ('LEGAL_TEST', 0.9859905242919922), ('UNCAT', 0.9087299704551697), ('LEGAL_TEST', 0.4680335819721222), ('LEGAL_TEST', 0.835723340511322), ('UNCAT', 0.9961373209953308), ('UNCAT', 0.9997231364250183), ('UNCAT', 1.0), ('UNCAT', 1.0), ('UNCAT', 0.9999998807907104)]\n"
     ]
    }
   ],
   "source": [
    "print(cats[1])"
   ]
  },
  {
   "source": [
    "## 4. Saving the predictions to a dataframe\n",
    "\n",
    "For easy visualisation of the results, we create a new dataframe and append the variable \"cats\" to three new columns of this dataframe: The list of individual sentences to a new column called \"sentence\", the name of the top scoring category called \"category\", and the score of the highest scoring category called \"score\"."
   ],
   "cell_type": "markdown",
   "metadata": {}
  },
  {
   "cell_type": "code",
   "execution_count": 22,
   "metadata": {},
   "outputs": [
    {
     "output_type": "execute_result",
     "data": {
      "text/plain": [
       "                                            sentence category     score\n",
       "0                                              Print    UNCAT  1.000000\n",
       "1  Spandeck Engineering (S) Pte Ltd v Defence Sci...    AXIOM  0.452611\n",
       "2                [2007] 4 SLR(R) 100; [2007] SGCA 37    AXIOM  0.591122\n",
       "3            Case Number : Civil Appeal No 3 of 2007    UNCAT  0.942935\n",
       "4                     Decision Date : 08 August 2007    UNCAT  1.000000"
      ],
      "text/html": "<div>\n<style scoped>\n    .dataframe tbody tr th:only-of-type {\n        vertical-align: middle;\n    }\n\n    .dataframe tbody tr th {\n        vertical-align: top;\n    }\n\n    .dataframe thead th {\n        text-align: right;\n    }\n</style>\n<table border=\"1\" class=\"dataframe\">\n  <thead>\n    <tr style=\"text-align: right;\">\n      <th></th>\n      <th>sentence</th>\n      <th>category</th>\n      <th>score</th>\n    </tr>\n  </thead>\n  <tbody>\n    <tr>\n      <th>0</th>\n      <td>Print</td>\n      <td>UNCAT</td>\n      <td>1.000000</td>\n    </tr>\n    <tr>\n      <th>1</th>\n      <td>Spandeck Engineering (S) Pte Ltd v Defence Sci...</td>\n      <td>AXIOM</td>\n      <td>0.452611</td>\n    </tr>\n    <tr>\n      <th>2</th>\n      <td>[2007] 4 SLR(R) 100; [2007] SGCA 37</td>\n      <td>AXIOM</td>\n      <td>0.591122</td>\n    </tr>\n    <tr>\n      <th>3</th>\n      <td>Case Number : Civil Appeal No 3 of 2007</td>\n      <td>UNCAT</td>\n      <td>0.942935</td>\n    </tr>\n    <tr>\n      <th>4</th>\n      <td>Decision Date : 08 August 2007</td>\n      <td>UNCAT</td>\n      <td>1.000000</td>\n    </tr>\n  </tbody>\n</table>\n</div>"
     },
     "metadata": {},
     "execution_count": 22
    }
   ],
   "source": [
    "# This creates a new dataframe with the three columns\n",
    "df_results = pd.DataFrame({\"sentence\" : cats[0], \"category\": [cat[0] for cat in cats[1]], \"score\": [cat[1] for cat in cats[1]]})\n",
    "\n",
    "# The first 5 rows of the new dataframe.\n",
    "df_results.head()"
   ]
  },
  {
   "source": [
    "We print the unique categories, and we see that they correspond to the five possible categories that spacy classifies text into.\n",
    "\n",
    "We also print the number of sentences that fall into each category: We see that the vast majority of sentences do not relate to any of the four categories (which makes sense since most sentences in a judgement are either describing the facts of the case / other cases or applying a test to the fact scenario.)"
   ],
   "cell_type": "markdown",
   "metadata": {}
  },
  {
   "cell_type": "code",
   "execution_count": 23,
   "metadata": {},
   "outputs": [
    {
     "output_type": "stream",
     "name": "stdout",
     "text": [
      "['UNCAT' 'AXIOM' 'CONCLUSION' 'LEGAL_TEST' 'ISSUE']\n"
     ]
    }
   ],
   "source": [
    "print(df_results[\"category\"].unique())"
   ]
  },
  {
   "cell_type": "code",
   "execution_count": 34,
   "metadata": {},
   "outputs": [
    {
     "output_type": "execute_result",
     "data": {
      "text/plain": [
       "UNCAT         483\n",
       "LEGAL_TEST     97\n",
       "AXIOM          66\n",
       "CONCLUSION     44\n",
       "ISSUE           6\n",
       "Name: category, dtype: int64"
      ]
     },
     "metadata": {},
     "execution_count": 34
    }
   ],
   "source": [
    "df_results[\"category\"].value_counts()"
   ]
  },
  {
   "source": [
    "### Visualising results of the classification\n",
    "\n",
    "We then print the first 30 sentences which were classified as most likely to be a legal test.\n",
    "\n",
    "#### Inspecting the sentences that were classified as a legal test:\n",
    "\n",
    "We see that the first few results contain the keyword \"test\", which probably corresponds to how blackstone was trained: The presence of the word \"test\" in a sentence increases the likelihood that the sentence would be referring to a legal test.\n",
    "\n",
    "Further, there are sentences that do not explicitly mention the word \"test\", but yet were correctly detected as a \"test\". For example, this sentence: \"The focus was on the closeness of the relationship between the parties, including physical, circumstantial and causal proximity, supported by the twin criteria of voluntary assumption of responsibility and reliance.\"\n",
    "\n",
    "This is likely because such keywords like \"physical, circumstantial and causal proximity\", \"voluntary assumption of responsibility and reliance\" directly relate to the test for duty of care in negligence. Hence while \"test\" itself does not appear in this sentence, these associated words that relate to the test for duty of care also increase the likelihood that the sentence refers to a legal test.\n",
    "\n",
    "Lastly, blackstone also categorises cases like \"Caparo Industries Plc v Dickman\" as a legal test, probably also due to the fact that the ratio for these cases relate to the test for duty of care in the UK (and blackstone was trained on UK legal data)."
   ],
   "cell_type": "markdown",
   "metadata": {}
  },
  {
   "cell_type": "code",
   "execution_count": 26,
   "metadata": {},
   "outputs": [
    {
     "output_type": "stream",
     "name": "stdout",
     "text": [
      "Tort – Negligence – Duty of care – Applicable test to determine existence of duty of care – Relationship between two-stage test and incremental approach – Application of two-stage test comprising first proximity and second policy considerations with threshold consideration of factual foreseeability – Incremental approach as methodological aid in applying specific criterion of two-stage test\n----------------------------------------\nTort – Negligence – Duty of care – Applicable test to determine existence of duty of care – Whether type of damage claimed should result in different test – Application of single (two-stage) test irrespective of type of damage claimed\n----------------------------------------\n(1)    A single test should determine the imposition of a duty of care in all claims arising out of negligence, irrespective of the type of the damages claimed.\n----------------------------------------\nThere was no justification for a general exclusionary rule against recovery of all economic losses, nor was there a need to adopt a different test for such cases.\n----------------------------------------\nThe single test eliminated the perception that there were, at once, two or more tests which were equally applicable: at [71] and [72].\n----------------------------------------\n(2)    The test to determine the imposition of a duty of care was a two-stage test comprising of, first, proximity and, second, policy considerations, which were together preceded by the threshold question of factual foreseeability.\n----------------------------------------\nThe first stage of proximity required sufficient legal proximity between the claimant and defendant for a duty of care to arise.\n----------------------------------------\nThe focus was on the closeness of the relationship between the parties, including physical, circumstantial and causal proximity, supported by the twin criteria of voluntary assumption of responsibility and reliance.\n----------------------------------------\nAlcock v Chief Constable of South Yorkshire Police [1992] 1 AC 310 (refd)\n----------------------------------------\nArenson v Casson Beckman Rutley & Co [1977] AC 405 (refd)\n----------------------------------------\nCaparo Industries Plc v Dickman [1989] QB 653 (refd)\n----------------------------------------\nCaparo Industries Plc v Dickman [1990] 2 AC 605 (refd)\n----------------------------------------\nCustoms and Excise Commissioners v Barclays Bank plc [2005] 1 WLR 2082 (not folld)\n----------------------------------------\nCustoms and Excise Commissioners v Barclays Bank plc [2007] 1 AC 181 (refd)\n----------------------------------------\nDonoghue v Stevenson [1932] AC 562 (refd)\n----------------------------------------\nHay or Bourhill v Young [1943] AC 92 (refd)\n----------------------------------------\nHo Soo Fong v Standard Chartered Bank [2007] 2 SLR(R) 181; [2007] 2 SLR 181 (refd)\n----------------------------------------\nMan B&W Diesel S E Asia Pte Ltd v PT Bumi International Tankers [2004] 2 SLR(R) 300; [2004] 2 SLR 300 (refd)\n----------------------------------------\nMohd bin Sapri v Soil-Build (Pte) Ltd [1996] 2 SLR(R) 223; [1996] 2 SLR 505 (refd)\n----------------------------------------\nPacific Associates Inc v Baxter [1990] 1 QB 993 (folld)\n----------------------------------------\nRSP Architects Planners & Engineers v Ocean Front Pte Ltd [1995] 3 SLR(R) 653; [1996] 1 SLR 113 (refd)\n----------------------------------------\nSmith v Eric S Bush [1990] 1 AC 831 (refd)\n----------------------------------------\nSunny Metal & Engineering Pte Ltd v Ng Khim Ming Eric [2007] 1 SLR(R) 853; [2007] 1 SLR 853 (refd)\n----------------------------------------\nSunrise Crane, The [2004] 4 SLR(R) 715; [2004] 4 SLR 715 (refd)\n----------------------------------------\nTV Media Pte Ltd v De Cruz Andrea Heidi [2004] 3 SLR(R) 543; [2004] 3 SLR 543 (refd)\n----------------------------------------\n[Editorial note: The decision from which this appeal arose is reported at [2007] 1 SLR(R) 720.]\n----------------------------------------\n23     In considering the duty of care issue, the trial judge applied both the two-stage test in Anns v Merton London Borough Council [1978] AC 728 (“Anns”) and the three-part test in Caparo Industries Plc v Dickman [1990] 2 AC 605 (“Caparo”) and reached the same result that there was no duty of care, an implicit judicial recognition of the state of confusion which belabours the local law in respect to the applicable test to be used to determine the existence of a duty of care for cases involving claims for pure economic loss (“cases of pure economic loss”) or, indeed, cases involving claims of personal injuries and physical damage (collectively “cases of physical damage”).\n----------------------------------------\nApplicable test for duty of care\n----------------------------------------\n26     Before us, the appellant submitted that the proper test to ascertain the existence of a duty of care for cases of pure economic loss should be a combination of the common elements from both the two-stage test in Anns and the three-part test in Caparo, citing the views contained in Andrew Phang, Saw Cheng Lim & Gary Chan, “Of Precedent, Theory and Practice – The Case for a Return to Anns” [2006] Sing JLS 1.\n----------------------------------------\nA broad two-stage approach or any other approach is only a framework, a more or less methodical way of tackling a problem.\n----------------------------------------\nLord Buckmaster also alluded to this concern when he said in Donoghue v Stevenson [1932] AC 562 at 577, “If one step, why not fifty?”\n----------------------------------------\nThis statement was then generally understood to mean that liability was founded on the test of pure foreseeability alone: see Hay or Bourhill v Young [1943] AC 92 at 107, where Lord Wright accepted Lord Atkin’s statement as establishing the “general concept of reasonable foresight as the criterion of negligence”.\n----------------------------------------\n32     However, it soon became apparent that a test based on foreseeability alone could be too wide and too pliable as a basis of liability in some situations.\n----------------------------------------\nThe two-stage test in Anns\n----------------------------------------\n33     The pendulum which swung between foreseeability and policy as the determinant of duty showed signs of resting in Arenson v Casson Beckman Rutley & Co [1977] AC 405, in which Lord Simon of Glaisdale appeared to endorse the idea that where Lord Atkin’s neighbour principle was seen as fixing the defendant with responsibility for the claimant’s damage, liability should follow, save where there was some good reason why it should not, and identified “public policy” as the qualifying factor (at 419).\n----------------------------------------\n34     It is well known that there is some controversy regarding the meaning of the first stage of the test: Did it relate only to the factual issue of reasonable foreseeability or did it introduce the legal conception of proximity (see further Phang, Saw & Chan ([26] supra) at 40–41)?\n----------------------------------------\nFor the moment, it suffices to note that this pronouncement in Anns is not only significant for the elucidation of a two-stage test to determine duty, it also introduced the concept of a truly “universal” test in that it could be applied without reference to previous decisions where the duty might or might not have been seen to have existed.\n----------------------------------------\nThe two-stage test in Anns doubted and overruled\n----------------------------------------\nIn Governors of the Peabody Donation Fund v Sir Lindsay Parkinson & Co Ltd [1985] AC 210, after quoting Lord Wilberforce’s test, Lord Keith of Kinkel made the criticism (at 240) that:\n----------------------------------------\nThe three-part test in Caparo\n----------------------------------------\n"
     ]
    }
   ],
   "source": [
    "for sentence in df_results.loc[df_results[\"category\"] == \"LEGAL_TEST\", \"sentence\"][:40]:\n",
    "    print(sentence)\n",
    "    print(\"-\" * 40)"
   ]
  },
  {
   "source": [
    "#### Inspecting the sentences that were classified as an axiom:\n",
    "\n",
    "Generally, we see that the sentences that are classified as axioms have the word \"general principle\". General principles are generally understood (pun intended) to be axioms, in the sense that both are broad statements that aim to generalise a certain area of knowledge.\n",
    "\n",
    "However, we also see that blackstone is not so simplistic to simply classify a sentence as an axiom just because it has the phrase \"general principle\". \n",
    "\n",
    "For example, we have these sentences that are also classified as axioms (and which a reasonable person would also judge them to be axioms):\n",
    "\n",
    "\"There is no escape from the truth that, whatever formula be used, the outcome in a grey area case has to be determined by judicial judgment.\"\n",
    "\n",
    "\"In the tort of negligence, careless conduct cannot, by itself, be used as a basis for tortious liability.\"\n",
    "\n",
    "From these examples, we can see the language model of blackstone is quite nuanced, as it takes into account the tone of the language used as well. For example, \"no escape from the truth\" (referring to a broad generalisation), \"in the tort of negligence\" (this phrase refers broadly to some concept in the tort of negligence). Generally, the method in which blackstone takes into account \"tone\" is just noting that such a sequence of words are more likely to occur in a sentence that relates to an axiom about the law. However, such a probabilistic model is still relatively successful in this regard."
   ],
   "cell_type": "markdown",
   "metadata": {}
  },
  {
   "cell_type": "code",
   "execution_count": 27,
   "metadata": {},
   "outputs": [
    {
     "output_type": "stream",
     "name": "stdout",
     "text": [
      "Spandeck Engineering (S) Pte Ltd v Defence Science & Technology Agency\n----------------------------------------\n[2007] 4 SLR(R) 100; [2007] SGCA 37\n----------------------------------------\n[Observation: To balance fair and just results and the imposition of indeterminate liability on an indeterminate class of tortfeasors without compromising the tort of negligence as a tool for the fair redistribution of economic wealth was the crucial issue for the courts, and the answer was in legal control mechanisms developed by the courts: at [29] and [30].]\n----------------------------------------\nEdgeworth Constructions Ltd v ND Lea & Associates Ltd (1993) 107 DLR (4th) 169 (refd)\n----------------------------------------\nElguzouli-Daf v Commission of Police of the Metropolis [1995] QB 335 (refd)\n----------------------------------------\nGovernors of the Peabody Donation Fund v Sir Lindsay Parkinson & Co Ltd [1985] AC 210 (refd)\n----------------------------------------\nHedley Byrne & Co Ltd v Heller & Partners Ltd [1964] AC 465 (refd)\n----------------------------------------\nIkumene Singapore Pte Ltd v Leong Chee Leng [1993] 2 SLR(R) 480; [1993] 3 SLR 24 (refd)\n----------------------------------------\nJ Jarvis and Sons Ltd v Castle Wharf Developments Ltd [2001] EWCA Civ 19 (refd)\n----------------------------------------\nJunior Books Ltd v Veitchi Co Ltd [1983] 1 AC 520 (refd)\n----------------------------------------\nLeigh and Sillivan Ltd v Aliakmon Shipping Co Ltd [1985] QB 350 (refd)\n----------------------------------------\nLeigh and Sillavan Ltd v Aliakmon Shipping Co Ltd [1986] AC 785 (refd)\n----------------------------------------\nMarc Rich & Co AG v Bishop Rock Marine Co Ltd [1994] 1 WLR 1071 (refd)\n----------------------------------------\nRolls-Royce New Zealand Ltd v Carter Holt Harvey Ltd [2005] 1 NZLR 324 (refd)\n----------------------------------------\nRSP Architects Planners & Engineers v MCST Plan No 1075 [1999] 2 SLR(R) 134; [1999] 2 SLR 449 (refd)\n----------------------------------------\nSouth Pacific Manufacturing Co Ltd v New Zealand Security Consultants & Investigations Ltd [1992] 2 NZLR 282 (refd)\n----------------------------------------\nSpartan Steel & Alloys Ltd v Martin & Co (Contractors) Ltd [1973] QB 27 (refd)\n----------------------------------------\nStandard Chartered Bank v Coopers & Lybrand [1993] 3 SLR(R) 29; [1993] 3 SLR 712 (refd)\n----------------------------------------\nHer judgment is reported in Spandeck Engineering (S) Pte Ltd v Defence Science & Technology Agency [2007] 1 SLR(R) 720 (“the Judgment”).\n----------------------------------------\nWhether these decisions have laid down a general principle, that pure economic loss can be recovered in all cases of negligence, is a matter we wish to re-examine because of its implications for the redistribution of wealth in the economy.\n----------------------------------------\nFurthermore, it is important that we revisit this issue as the Singapore courts have also applied a different test to determine the existence of a duty of care when the type of damages claimed is pure economic loss, and when it is for loss associated with physical damage, even though the foundation of the two different tests is derived from a common source, viz, the well-known English decisions in Anns and Caparo.\n----------------------------------------\nThe common law is built on interconnected layers of principles, universal and particular, each dependent on and interacting with the other, held together by the overarching goal of fairness and justice.\n----------------------------------------\nTo understand this is to comprehend the common law’s eternal search for rational and universal principles in the law.\n----------------------------------------\nWith the universal in the form of general principles, the law will be a coherent body of rules, and not consist of singular instances of judicial decisions unrelated to each other.\n----------------------------------------\nThese general principles provide the focus to which the particular (viz, the facts of decided cases and the present case) must then be analysed so that the courts may, within this aggregation of the universal and the particular, reach a result that is fair and just.\n----------------------------------------\nAs Cooke P put it in South Pacific Manufacturing Co Ltd v New Zealand Security Consultants & Investigations Ltd [1992] 2 NZLR 282 at 294:\n----------------------------------------\nThere is no escape from the truth that, whatever formula be used, the outcome in a grey area case has to be determined by judicial judgment.\n----------------------------------------\nUltimately, the resolution of a claim in negligence should be based on general principles that have universal application to every factual situation which gives rise to a legal dispute either on liability or damages.\n----------------------------------------\n29     In the tort of negligence, careless conduct cannot, by itself, be used as a basis for tortious liability.\n----------------------------------------\nLord Atkin, who may be regarded as the founder of the modern law of negligence, referred to this heavy responsibility in Donoghue v Stevenson (at 583–584):\n----------------------------------------\n[I]n the branch of the law which deals with civil wrongs, dependent in England at any rate entirely upon the application by judges of general principles also formulated by judges, it is of particular importance to guard against the danger of stating propositions of law in wider terms than is necessary, lest essential factors be omitted in the wider survey and the inherent adaptability of English law be unduly restricted. [\n----------------------------------------\nIndeed, the various tests which have been applied by the courts following Donoghue v Stevenson are but a manifestation of one or more of the legal control mechanisms formulated by the courts within the general principles.\n----------------------------------------\n31     Although there were some cases prior to 1932 which purported to articulate some kind of general principle to determine the existence of a duty of care (see, for example, Heaven v Pender (1883) 11 QBD 503 at 509, per Brett MR), the search for a universal basis for duty is generally regarded to have begun with the House of Lords decision of Donoghue v Stevenson.\n----------------------------------------\nIn Spartan Steel & Alloys Ltd v Martin & Co (Contractors) Ltd [1973] QB 27, Lord Denning MR said (at 36):\n----------------------------------------\n37     Following this, Lord Brandon of Oakbrook remarked in Leigh and Sillavan Ltd v Aliakmon Shipping Co Ltd [1986] AC 785 at 815 that the propositions laid down by Lord Wilberforce in Anns “[do] not provide, and cannot … have been intended by Lord Wilberforce to provide, a universally applicable test of the existence and scope of a duty of care in the law of negligence”.\n----------------------------------------\nIn my opinion it is clear that Anns did not proceed upon any basis of established principle, but introduced a new species of liability governed by a principle indeterminate in character but having the potentiality of covering a wide range of situations, involving chattels as well as real property, in which it had never hitherto been thought that the law of negligence had any proper place.\n----------------------------------------\nIn relation to the scope of the duty owed by a local authority it proceeded upon what must, with due respect to its source, be regarded as a somewhat superficial examination of principle and there has been extreme difficulty, highlighted most recently by the speeches in [D & F Estates Ltd v Church Commissioners for England [1989] AC 177], in ascertaining upon exactly what basis of principle it did proceed.\n----------------------------------------\nWhilst recognising, of course, the importance of the underlying general principles common to the whole field of negligence, I think the law has now moved in the direction of attaching greater significance to the more traditional categorisation of distinct and recognisable situations as guides to the existence, the scope and the limits of the varied duties of care which the law imposes.\n----------------------------------------\nProf Stanton is of the view (at p 39) that, at a general level, “incrementalism may be regarded as restoring a traditional method of adjudication to the tort of negligence” in that it remains intertwined with a formula-based approach, and that the general principle should henceforth be applied in a more cautious manner.\n----------------------------------------\n43     If incrementalism is intended to return the development of liability in negligence to the basis that discrete sets of rules should govern different factual scenarios, the central problem, as Prof Stanton noted at p 48, is that it requires a return to an approach which has been systematically destroyed since Donoghue v Stevenson, as generations of lawyers have since been trained to believe that the tort of negligence is based on a common general principle.\n----------------------------------------\n"
     ]
    }
   ],
   "source": [
    "for sentence in df_results.loc[df_results[\"category\"] == \"AXIOM\", \"sentence\"][:40]:\n",
    "    print(sentence)\n",
    "    print(\"-\" * 40)"
   ]
  },
  {
   "source": [
    "#### Inspecting the sentences that were classified as an issue:\n",
    "\n",
    "There are only 6 sentences that were classified as issues, and only the first sentence corresponds to what we would think of as an legal issue.\n",
    "\n",
    "The tone of the other sentences (apart from \"the respondent's arguments\") seem to relate to some kind of opinion of the court, usually after it has set out the issue. \n",
    "\n",
    "The miscategorisation could be because blackstone was trained on UK case law, and (anecdotally speaking), the older judgements in the UK courts tend to use run on sentences, which links phrases relating to the actual issue to the court's approach to how to resolve the issue (ie. phrases that include \"in our view\", \"with respect\", \"the question has to be approached\").\n",
    "\n",
    "Nevertheless, at least the categorisation of these sentences are somewhat related to the context of the legal issue at hand. (In the case of Spandeck, the issue is the first sentences classified as an ISSUE: \"the threshold issue was whether there was a duty of care owed by the respondent to the appellant and the applicable test for ascertaining the existence of a duty of care.\")"
   ],
   "cell_type": "markdown",
   "metadata": {}
  },
  {
   "cell_type": "code",
   "execution_count": 32,
   "metadata": {},
   "outputs": [
    {
     "output_type": "stream",
     "name": "stdout",
     "text": [
      "On appeal, the threshold issue was whether there was a duty of care owed by the respondent to the appellant and the applicable test for ascertaining the existence of a duty of care.\n----------------------------------------\nRather the question has to be approached in two stages.\n----------------------------------------\n35     In our view, these criticisms have arisen because of the perceived divorce of the particular from the universal (see [28] above).\n----------------------------------------\n71     As such, in our view, a single test is preferable in order to determine the imposition of a duty of care in all claims arising out of negligence, irrespective of the type of the damages claimed, and this should include claims for pure economic loss, whether they arise from negligent misstatements or acts/omissions.\n----------------------------------------\nAlthough this consideration has been incorporated as an element within the ‘three-part test’ itself, its incorporation is, with respect, unnecessary.\n----------------------------------------\n(2)   The respondent’s arguments\n----------------------------------------\n"
     ]
    }
   ],
   "source": [
    "for sentence in df_results.loc[df_results[\"category\"] == \"ISSUE\", \"sentence\"][:696]:\n",
    "    print(sentence)\n",
    "    print(\"-\" * 40)"
   ]
  },
  {
   "source": [
    "#### Inspecting sentences that were classified as a conclusion:\n",
    "\n",
    "On first glance, we see that blackstone generally classifies two types of \"conclusions\": \n",
    "\n",
    "The first type is the summary of case law that the court cites in its holding.\n",
    "\n",
    "For example: \"That pendulum finally became stationary in favour of an approach which meshed foreseeability with public policy in Anns ([23] supra), where Lord Wilberforce influentially said (at 751–752)\"\n",
    "\n",
    "\"A fair reading of the sentence (see [33] above) beginning with “in order to establish … it is not necessary to bring the facts within those of previous situations” does not preclude an incremental approach as the expression “the facts” does necessarily connote all the facts, and is capable of implying that it is only necessary to bring only some of the facts.\"\n",
    "\n",
    "\"There can be no doubt that to depart from the decision would re-establish a degree of certainty in this field of law which it has done a remarkable amount to upset.\"\n",
    "\n",
    "These sentences are summaries of prior precedent cases that are relevant to the decision of the case at hand.\n",
    "\n",
    "The second type that blackstone classifies as a conclusion is the conclusion of the current case itself. For example:\n",
    "\n",
    "\"Notwithstanding these judicial views, we agree with Phang, Saw & Chan ([26] supra at 42) that these observations are “puzzling, to say the least”.\"\n",
    "\n",
    "\"On the facts of the present case, the same reasons above articulated by Russell LJ in Pacific Associates can also be characterised as policy considerations under the second stage of the test in Anns.\"\n",
    "\n",
    "\n",
    "The last type of \"conclusion\" is the CA's summary of the lower court's decision about the current case: \"The trial judge found that the respondent did not owe a duty of care to the appellant....\"\n",
    "\n",
    "Overall, blackstone seemed to have done a relatively good job at detecting sentences that are \"summarial\" in nature, without relying on specific key words such as \"in conclusion\" etc. It also did not classify sentences that are merely factual recounts of cases, and instead only classified the CA's summary of the case after the CA had decribed the relevant facts."
   ],
   "cell_type": "markdown",
   "metadata": {}
  },
  {
   "cell_type": "code",
   "execution_count": 35,
   "metadata": {},
   "outputs": [
    {
     "output_type": "stream",
     "name": "stdout",
     "text": [
      "Coram : Chan Sek Keong CJ; Andrew Phang Boon Leong JA; V K Rajah JA\n----------------------------------------\nPolicy considerations, such as the presence of a contractual matrix which clearly defined the rights and liabilities of the parties and their relative bargaining positions, then arose and were applied to the factual matrix to determine whether or not to negate this prima facie duty: at [77], [81], [83] and [115].\n----------------------------------------\nHowever, the absence of a factual precedent in analogous situations of proximity and/or policy considerations should not preclude the court from extending liability where it was just and fair to do so, taking into account the relevant policy consideration against indeterminate liability against a tortfeasor: at [43], [73] and [115].\n----------------------------------------\nAdopting an incremental approach with respect to the requirement of proximity and in view of cl 34, there was no voluntarily assumption of responsibility nor reliance and the respondent could not be held to have a duty of care to the appellant to certify the payments for work done correctly: at [87], [89], [97], [99] to [102], [108] and [109].\n----------------------------------------\nAnns v Merton London Borough Council [1978] AC 728 (folld)\n----------------------------------------\nD v Kong Sim Guan [2003] 3 SLR(R) 146; [2003] 3 SLR 146 (refd)\n----------------------------------------\nDorset Yacht Co Ltd v Home Office [1969] 2 QB 412 (refd)\n----------------------------------------\nMurphy v Brentwood District Council [1991] 1 AC 398 (not folld)\n----------------------------------------\nPang Koi Fa v Lim Djoe Phing [1993] 2 SLR(R) 366; [1993] 3 SLR 317 (refd)\n----------------------------------------\nRichardson v Mellish (1824) 2 Bing 229; 130 ER 294 (refd)\n----------------------------------------\nSutherland Shire Council v Heyman (1985) 60 ALR 1 (folld)\n----------------------------------------\nUltramares Corp v Touche, Niven & Co 255 NY 170 (1931) (refd)\n----------------------------------------\nUnited Project Consultants Pte Ltd v Leong Kwok Onn [2005] 4 SLR(R) 214; [2005] 4 SLR 214 (refd)\n----------------------------------------\nThe trial judge found that the respondent did not owe a duty of care to the appellant to avoid causing the latter to suffer pure economic loss through its (the respondent’s) negligent conduct: the Judgment at [92]. Notwithstanding this finding, the trial judge went on to consider the other “main issues that arose from the evidence adduced at the trial” and held that even if a duty of care had been owed, the evidence was “against the [appellant]” and “clearly disproved the breach of any such duty by the [respondent] to the [appellant]”: the Judgment at [92], [93] and [190].\n----------------------------------------\nThis was what Cardozo CJ was afraid of in Ultramares Corp v Touche, Niven & Co 255 NY 170 (1931) at 179, ie, the imposition of “liability in an indeterminate amount for an indeterminate time to an indeterminate class”.\n----------------------------------------\nSimilarly, in Dorset Yacht Co Ltd v Home Office [1969] 2 QB 412, Lord Denning MR said (at 426):\n----------------------------------------\nThat pendulum finally became stationary in favour of an approach which meshed foreseeability with public policy in Anns ([23] supra), where Lord Wilberforce influentially said (at 751–752):\n----------------------------------------\nWhether or not Lord Wilberforce intended for his test to apply in a vacuum, distanced from all considerations of prior decisions, is not exactly clear, since the essence of the common law (which Lord Wilberforce must have known) is by its very nature incremental.\n----------------------------------------\nA fair reading of the sentence (see [33] above) beginning with “in order to establish … it is not necessary to bring the facts within those of previous situations” does not preclude an incremental approach as the expression “the facts” does necessarily connote all the facts, and is capable of implying that it is only necessary to bring only some of the facts.\n----------------------------------------\nSimilarly, the Australian High Court gave reasons in Sutherland Shire Council v Heyman (1985) 60 ALR 1 (“Sutherland”) for declining to follow the direction in which Anns appeared to be taking the law in England.\n----------------------------------------\n38     The two-stage test in Anns was finally overruled by the House of Lords in Murphy v Brentwood District Council [1991] 1 AC 398 (“Murphy”).\n----------------------------------------\nThe result has been to keep the effect of the decision within reasonable bounds, but that has been achieved only by applying strictly the words of Lord Wilberforce and by refusing to accept the logical implications of the decision itself.\n----------------------------------------\nThere can be no doubt that to depart from the decision would re-establish a degree of certainty in this field of law which it has done a remarkable amount to upset.\n----------------------------------------\nIn Smith v Eric S Bush [1990] 1 AC 831, Lord Griffiths, in dealing with the question of when the law deems a person who has given advice to have assumed responsibility to the recipient who has acted on it and suffered damage, replied (at 865):\n----------------------------------------\nLord Oliver of Aylmerton said (at 487) that if the infliction of loss by the defendant on the claimant was to be categorised as wrongful, it was necessary to find some factor beyond the mere occurrence of the loss and the fact that its occurrence could be foreseen.\n----------------------------------------\nThe reason for this appears to be a fear of indeterminate liability owing to the fluid nature of pure economic losses which are not strictly restricted by the physical interaction of the parties involved (see further [66] below).\n----------------------------------------\nLord Oliver of Aylmerton lamented in Caparo ([23] supra at 633) thus:\n----------------------------------------\n49     On appeal in Customs and Excise Commissioners ([43] supra), the House of Lords did not express a definitive view on whether or not the three “tests” mentioned by Longmore LJ were substantive tests in their own right and were all to be applied in any given case.\n----------------------------------------\nIt is abundantly clear that in Ocean Front this court did not follow the broad proposition laid down by Lord Wilberforce in Anns.\n----------------------------------------\n57     That the “two-stage process” was only applicable to cases of pure economic loss was confirmed in The Sunrise Crane [2004] 4 SLR(R) 715.\n----------------------------------------\nHowever, the dissenting judge in The Sunrise Crane took the view that a uniform approach should be applied to all cases of negligence, with the salient features of each case being determinative of the existence and scope of duty.\n----------------------------------------\n58     The result of the majority’s pronouncement in The Sunrise Crane, as Dr Kumaralingam Amirthalingam notes in “The Sunrise Crane – Shedding New Light or Casting Old Shadows on Duty of Care?” [\n----------------------------------------\nIn the case of Leigh and Sillivan Ltd v Aliakmon Shipping Co Ltd [1985] QB 350, Oliver LJ (as he then was) recognised this point when he said (at 375):\n----------------------------------------\nSimilarly, he, as Lord Oliver in Murphy ([38] supra), reiterated this point (at 485):\n----------------------------------------\nHowever, the absence of a factual precedent, which implies the presence of a novel situation, should not preclude the court from extending liability where it is just and fair to do so, taking into account the relevant policy consideration against indeterminate liability against a tortfeasor.\n----------------------------------------\nAs Lord Wilberforce himself observed in McLoughlin v. O’Brian [1983] 1 A.C. 410, 420, it is clear that foreseeability does not of itself, and automatically, lead to a duty of care.\n----------------------------------------\nThe truth is that the trilogy of cases referred to by Lord Wilberforce in Anns v. Merton London Borough Council [1978] A.C. 728, 751, each demonstrate particular sets of circumstances, differing in character, which were adjudged to have the effect of bringing into being a relationship apt to give rise to a duty of care.\n----------------------------------------\n80     Notwithstanding these judicial views, we agree with Phang, Saw & Chan ([26] supra at 42) that these observations are “puzzling, to say the least”.\n----------------------------------------\nIn this respect, we agree with Nicholas J Mullany when he notes in “Proximity, Policy and Procrastination” (1992) 9 Aust Bar Rev 80 at 83 that:\n----------------------------------------\n93     Finally, the appellant pointed out that cl 32.8 of the Contract made it clear that the appellant had no remedy vis-à-vis the Employer for “any damages, whether by way of interest or otherwise, for any failure or delay by the [SO] in certifying any payment due or payable to the Contractor”.\n----------------------------------------\nSince cl 32.8 had severely limited any recourse by the appellant to the Employer for damages arising from any failure or delay by the respondent in certifying any payment due or payable to the contractor, it was argued that the decision of the English Court of Appeal in Pacific Associates Inc v Baxter [1990] 1 QB 993 (“Pacific Associates”), which denied a duty of care in similar circumstances, was distinguishable as in that case there was no such restriction of the contractor’s right of recourse to the employer.\n----------------------------------------\nAs such, the court could not accept that the engineer had held himself out as accepting a duty of care outside the contractual framework, or that the contractor had relied on such an assumption of responsibility.\n----------------------------------------\n103     Pacific Associates has been followed in the Australian case of John Holland Construction and Engineering Pty Ltd v Majorca Projects Pty Ltd (2000) 16 Const LJ 114 (“John Holland”).\n----------------------------------------\n114    On the facts of the present case, the same reasons above articulated by Russell LJ in Pacific Associates can also be characterised as policy considerations under the second stage of the test in Anns.\n----------------------------------------\n"
     ]
    }
   ],
   "source": [
    "for sentence in df_results.loc[df_results[\"category\"] == \"CONCLUSION\", \"sentence\"][:696]:\n",
    "    print(sentence)\n",
    "    print(\"-\" * 40)"
   ]
  },
  {
   "source": [
    "## 6. Concluding remarks\n",
    "\n",
    "### About the data cleaning process:\n",
    "\n",
    "We walked through the steps needed to prepare the data such that blackstone can be used: From importing the raw text file of the Spandeck case, to removing the formatting (like the new tab and new line formatting) from the text, to parsing the cleaned text into spacy to convert the raw text into a spacy document, and finally predicting using blackstone on individual sentences.\n",
    "\n",
    "Generally, the \"exciting\" part of data analysis (ie getting classification and predictions) is also the easiest part of the process. The majority of the work is spent on data cleaning and preparation.\n",
    "\n",
    "### About blackstone's performance on the Spandeck case:\n",
    "\n",
    "We see that overall, blackstone has performed relatively well in its classification. Inspecting the classifications manually did not reveal many predictions by blackstone that did not seem to make sense, given the category. Most classifications could be plausibly explained to belong to a particular category because of certain phrases that indicated a \"conclusion\" or \"axiom\".\n",
    "\n",
    "Interestingly, the classification of conclusions and axioms seem to overlap: A conclusion (or summary) of a often cited precedent (such as Donoghue v Stevenson) could be construed to be an axiom about the test for duty of care as well. (ie. In that the test is always something about the reasonable foreseeability of harm). Therefore, if one were to use blackstone to conduct data analytics of case precedent and principles, it would be good to look at those sentences classified as \"conclusion\" and and those classified as \"axioms\", as it casts a wider \"net\" on classifying legal principles.\n",
    "\n",
    "### Possible future uses of Blackstone in Singapore's local context:\n",
    "\n",
    "Blackstone's performance on local case law seems to be promising, especially since it was trained on UK case law. Perhaps blackstone can be further trained on local case law in the future. This would require labelled local case law (ie. each sentence in the case assigned a category by a human) across a wide spectrum of legal issues.\n",
    "\n",
    "With more robust training of blackstone to adapt it to local case law, one direct application of it is the partial automation of case headnotes which are currently manually done by Justices Law Clerks. At the very least, blackstone can assist JLCs in writing these headnotes by first providing a preliminary classification of the case, which could point the JLCs to the relevant parts to further refine the summary. "
   ],
   "cell_type": "markdown",
   "metadata": {}
  }
 ]
}